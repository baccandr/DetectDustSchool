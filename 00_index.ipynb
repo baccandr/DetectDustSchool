{
 "cells": [
  {
   "cell_type": "markdown",
   "metadata": {
    "Collapsed": "false"
   },
   "source": [
    "<img src='./img/dust_banner.png' alt='Training school and workshop on dust' align='center' width='100%'></img>\n",
    "\n",
    "<br>"
   ]
  },
  {
   "cell_type": "markdown",
   "metadata": {
    "Collapsed": "false"
   },
   "source": [
    "# 2023 Joint Dust Training School"
   ]
  },
  {
   "cell_type": "markdown",
   "metadata": {
    "Collapsed": "false"
   },
   "source": [
    "<br>"
   ]
  },
  {
   "cell_type": "markdown",
   "metadata": {
    "Collapsed": "false"
   },
   "source": [
    "This online school is jointly organized by [EUMETSAT](https://www.eumetsat.int/), the [WMO SDS-WAS Regional Center](https://sds-was.aemet.es/) (which is managed by the [Barcelona Supercomputing Center](https://www.bsc.es/), BSC, and the [Spanish Meteorological State Agency](https://www.aemet.es/en/portada), AEMET) and [ACTRIS](https://www.actris.eu/) with the support of [Copernicus](https://www.copernicus.eu/en).\n",
    "\n",
    "**Prerequisites** for attending the workshop include: (1) basic knowledge in atmospheric sciences, (2) basic knowledge in programming and (3) a basic understanding in structure and formats of geospatial data / Earth Observation data.\n",
    "\n",
    "Before the school, we will send participants **preparatory material** on Python and how to access data. We will have an **optional clinic session** on 16th February 2023 to go over their questions. During the school, we will have lectures from scientific experts and hands-on problem-based practicals.\n",
    "\n",
    "**Learning objectives**\n",
    "\n",
    "The training aims to enable participants to be aware of satellite-based, ground-based and model-based products. Participants will also learn more about the applicability and fitness-for-purpose of the respective products. The learning objectives for participants are as follows:\n",
    "\n",
    "- To be able to find and use satellite-, model-based and ground-based data products for dust monitoring and forecasting\n",
    "- To be able to use standard Python packages to handle, process and visualise the data, and\n",
    "- To be able to identify advantages and limitations of each data product introduced\n"
   ]
  },
  {
   "cell_type": "markdown",
   "metadata": {},
   "source": [
    "<hr>"
   ]
  },
  {
   "cell_type": "markdown",
   "metadata": {
    "Collapsed": "false",
    "tags": []
   },
   "source": [
    "## Course material"
   ]
  },
  {
   "cell_type": "markdown",
   "metadata": {
    "Collapsed": "false",
    "tags": []
   },
   "source": [
    "The preparatory material follows a modular approach and offers modules on:\n",
    "- [01 - PYTHON](#python)\n",
    "- [02 - JUPYTER](#jupyter)\n",
    "- [03 - DATA ACCESS](#data_access)\n",
    "- [04 - DATA WORKFLOWS](#data_workflows)\n",
    "\n",
    "During the training school, we will also release material on: \n",
    "- [05 - PRACTICALS](#practicals)\n",
    "- [06 - SOLUTIONS](#solutions)\n",
    "\n",
    "<br>\n",
    "\n",
    "\n",
    "<div class=\"alert alert-block alert-info\">\n",
    "<b><a id='python'></a>01 - PYTHON</b>\n",
    "</div>\n",
    "\n",
    " * [11 - Python](./01_python/11_python.ipynb)\n",
    "\n",
    "\n",
    "<br>\n",
    "\n",
    "<div class=\"alert alert-block alert-success\">\n",
    "<b><a id='jupyter'></a>02 - JUPYTER</b>\n",
    "</div>\n",
    "\n",
    " * [21 - Introduction to Project Jupyter](./02_jupyter/21_introduction_to_project_jupyter.ipynb)\n",
    " * [22 - JupyterLab](./02_jupyter/22_jupyterlab.ipynb)\n",
    " * [23 - Jupyter Notebook](./02_jupyter/23_jupyter_notebook.ipynb)\n",
    " * [24 - Troubleshooting](./02_jupyter/24_troubleshooting.ipynb)\n",
    " * [25 - Replicating the JupyterLab environment locally](./02_jupyter/25_local_environment.ipynb)\n",
    "\n",
    "<br>\n",
    "\n",
    "<div class=\"alert alert-block alert-warning\">\n",
    "<b><a id='data_access'></a>03 - DATA ACCESS</b>\n",
    "</div>\n",
    "\n",
    " * [31 - Data Access](./03_data_access/31_data_access.ipynb)\n",
    "\n",
    "<br>\n",
    "\n",
    "<div class=\"alert alert-block alert-danger\">\n",
    "<b><a id='data_workflows'></a>04 - DATA WORKFLOWS</b>\n",
    "</div>\n",
    "\n",
    "#### *Satellite Observations*\n",
    "   * [411 - MSG SEVIRI Dust Product - Level 1.5](./04_data_workflows/41_satellite_observations/411_MSG_dust_product_L1_load_browse.ipynb)\n",
    "   * [412 - MODIS RGB Composite - Level 1B](./04_data_workflows/41_satellite_observations/412_MODIS_L1B_RGB_load_browse.ipynb)\n",
    "   * [413 - VIIRS RGB Composite - Level 1B](./04_data_workflows/41_satellite_observations/413_VIIRS_L1B_RGB_load_browse.ipynb)\n",
    "   * [414 - MODIS 10km Aerosol Product - Level 2](./04_data_workflows/41_satellite_observations/414_MODIS_10km_aerosol_product_L2_load_browse.ipynb)\n",
    "   * [415 - Sentinel-5P TROPOMI - Aerosol Index - Level 2](./04_data_workflows/41_satellite_observations/415_Sentinel-5P_TROPOMI_AI_L2_load_browse.ipynb)\n",
    "   * [416 - PMAp - Aerosol Optical Depth - Level 2](./04_data_workflows/41_satellite_observations/416_PMAp_AOD_L2_load_browse.ipynb)   \n",
    "   * [417 - MetOp-ABC GOME-2 - Absorbing Aerosol Index - Level 3](./04_data_workflows/41_satellite_observations/417_Metop-ABC_GOME-2_AAI_L3_load_browse.ipynb)\n",
    "   * [418 - C3S - Aerosol Properties - Level 3](./04_data_workflows/41_satellite_observations/418_C3S_aerosol_properties_L3_load_browse.ipynb) \n",
    "   \n",
    "#### *Ground-based Observations*\n",
    "   * [421 - AERONET](./04_data_workflows/42_groundbased_observations/421_AERONET.ipynb)\n",
    "   * [422 - EARLINET](./04_data_workflows/42_groundbased_observations/422_EARLINET.ipynb)\n",
    "   * [423 - EEA Air Quality](./04_data_workflows/42_groundbased_observations/423_EEA_Air_Quality.ipynb)\n",
    "\n",
    "#### *Model Data*\n",
    "   * [431 - CAMS Global Forecast - Dust Aerosol Optical Depth](./04_data_workflows/43_model_data/431_CAMS_global_forecast_duaod_load_browse.ipynb)\n",
    "   * [432 - CAMS Global Reanalysis (EAC4) - Dust Aerosol Optical Depth](./04_data_workflows/43_model_data/432_CAMS_global_reanalysis_duaod_load_browse.ipynb)\n",
    "   * [433 - CAMS European Air Quality Forecast - Dust Concentration](./04_data_workflows/43_model_data/433_CAMS_European_air_quality_forecast_dust_concentration_load_browse.ipynb)\n",
    "   * [434 - SDS-WAS MONARCH - Dust Forecast](./04_data_workflows/43_model_data/434_SDS-WAS_MONARCH_dust_forecast.ipynb)\n",
    "\n",
    "<br>\n",
    "\n",
    "<div class=\"alert alert-block alert-info\">\n",
    "<b><a id='practicals'></a>05 - PRACTICALS</b>\n",
    "</div>\n",
    "\n",
    " * [51 - Practical exercise - Satellite I](./05_practicals/51_exercise.ipynb)\n",
    " * [52 - Practical exercise - Satellite II](./05_practicals/52_exercise.ipynb)\n",
    " * [53 - Practical exercise - Ground-based I](./05_practicals/53_exercise.ipynb)\n",
    " * [54 - Practical exercise - Model I](./05_practicals/54_exercise.ipynb)\n",
    " * [55 - Practical exercise - Model II](./05_practicals/55_exercise.ipynb)\n",
    "\n",
    "<br>\n",
    "\n",
    "<div class=\"alert alert-block alert-success\">\n",
    "<b><a id='solutions'></a>06 - SOLUTIONS</b>\n",
    "</div>\n",
    "\n",
    " * [61 - Practical exercise solution - Satellite I](./06_solutions/61_solution.ipynb)\n",
    " * [62 - Practical exercise solution - Satellite II](./06_solutions/62_solution.ipynb)\n",
    " * [63 - Practical exercise solution - Ground-based I](./06_solutions/63_solution.ipynb)\n",
    " * [64 - Practical exercise solution - Model I](./06_solutions/64_solution.ipynb)\n",
    " * [65 - Practical exercise solution - Model II](./06_solutions/65_solution.ipynb)\n",
    "  \n",
    "<br>"
   ]
  },
  {
   "cell_type": "markdown",
   "metadata": {
    "Collapsed": "false"
   },
   "source": [
    "<hr>"
   ]
  },
  {
   "cell_type": "markdown",
   "metadata": {
    "Collapsed": "false"
   },
   "source": [
    "<img src='./img/copernicus_logo.png' alt='Logo EU Copernicus' align='right' width='20%'><br><br><br><br>\n",
    "<p style=\"text-align:right;\">This project is licensed under <a href=\"./LICENSE\">GNU General Public License v3.0 only</a> and is developed under a Copernicus contract."
   ]
  },
  {
   "cell_type": "markdown",
   "metadata": {},
   "source": [
    "<p style=\"text-align:right;\"> <a href='https://training.eumetsat.int'>EUMETSAT Training</a> | <a href='mailto:training@eumetsat.int'>Contact the training team</a></p>"
   ]
  }
 ],
 "metadata": {
  "kernelspec": {
   "display_name": "Python 3 (ipykernel)",
   "language": "python",
   "name": "python3"
  },
  "language_info": {
   "codemirror_mode": {
    "name": "ipython",
    "version": 3
   },
   "file_extension": ".py",
   "mimetype": "text/x-python",
   "name": "python",
   "nbconvert_exporter": "python",
   "pygments_lexer": "ipython3",
   "version": "3.8.12"
  },
  "tags": [
   "atmosphere",
   "climate"
  ],
  "title": "This is a test"
 },
 "nbformat": 4,
 "nbformat_minor": 4
}
