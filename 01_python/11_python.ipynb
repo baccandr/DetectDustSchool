{
 "cells": [
  {
   "cell_type": "markdown",
   "metadata": {
    "Collapsed": "false"
   },
   "source": [
    "<img src='../img/EU-Copernicus-EUM_3Logos.png' alt='Logo EU Copernicus EUMETSAT' align='right' width='40%'></img>"
   ]
  },
  {
   "cell_type": "markdown",
   "metadata": {
    "Collapsed": "false"
   },
   "source": [
    "<br>"
   ]
  },
  {
   "cell_type": "markdown",
   "metadata": {},
   "source": [
    "<br>"
   ]
  },
  {
   "cell_type": "markdown",
   "metadata": {
    "Collapsed": "false"
   },
   "source": [
    "# Python - Preparatory Material"
   ]
  },
  {
   "cell_type": "markdown",
   "metadata": {
    "Collapsed": "false",
    "tags": []
   },
   "source": [
    "## Introduction"
   ]
  },
  {
   "cell_type": "markdown",
   "metadata": {
    "Collapsed": "false"
   },
   "source": [
    "This notebook will introduce you to the Python programming language and useful Python libraries for processing and visualising data that we will use during this training school. You will learn about: \n",
    "* [Getting started with Python](#start)\n",
    "* [Processing and visualising data with Python libraries](#libraries)\n",
    "* [Our functions library](#functions)"
   ]
  },
  {
   "cell_type": "markdown",
   "metadata": {
    "Collapsed": "false"
   },
   "source": [
    "<hr>"
   ]
  },
  {
   "cell_type": "markdown",
   "metadata": {
    "Collapsed": "false"
   },
   "source": [
    "## <a id='start'></a>Getting started with Python"
   ]
  },
  {
   "cell_type": "markdown",
   "metadata": {
    "Collapsed": "false"
   },
   "source": [
    "Are you new to programming with Python? Don't worry, there are many good resources online for you to catch up on before the start of the training school. Having a basic understanding of Python is all you need and there will be plenty of time to ask questions.\n",
    "\n",
    "The most important things to understand are linked below: \n",
    "\n",
    "- **Basic Syntax**: [tutorial](https://www.w3schools.com/python/python_syntax.asp)\n",
    "- **Variables**: [tutorial](https://www.w3schools.com/python/python_variables.asp)\n",
    "- **Strings**: [tutorial](https://www.w3schools.com/python/python_strings.asp)\n",
    "- **Operators**: [tutorial](https://www.w3schools.com/python/python_operators.asp) and [short video](https://www.freecodecamp.org/learn/scientific-computing-with-python/python-for-everybody/variables-expressions-and-statements)\n",
    "- **Lists**: [tutorial](https://www.w3schools.com/python/python_lists.asp) and [short video](https://www.freecodecamp.org/learn/scientific-computing-with-python/python-for-everybody/python-lists)\n",
    "- **Dictionaries**: [tutorial](https://www.w3schools.com/python/python_dictionaries.asp) and [short video](https://www.freecodecamp.org/learn/scientific-computing-with-python/python-for-everybody/python-dictionaries)\n",
    "- **Functions**: [tutorial](https://www.w3schools.com/python/python_functions.asp) and [short video](https://www.freecodecamp.org/learn/scientific-computing-with-python/python-for-everybody/python-functions)\n",
    "- **For-Loops**: [tutorial](https://www.w3schools.com/python/python_for_loops.asp)\n",
    "- **Comments**: [tutorial](https://www.w3schools.com/python/python_comments.asp)\n",
    "\n",
    "If you would like to dive deeper into Python, you can check out the following free courses: \n",
    "* [Python Tutorial](https://www.w3schools.com/python/) by [W3 Schools](https://www.w3schools.com/)\n",
    "* [Python for Everybody](https://www.freecodecamp.org/learn/scientific-computing-with-python/#python-for-everybody) course by [freecodecamp.org](https://www.freecodecamp.org)\n"
   ]
  },
  {
   "cell_type": "markdown",
   "metadata": {
    "Collapsed": "false"
   },
   "source": [
    "<hr>"
   ]
  },
  {
   "cell_type": "markdown",
   "metadata": {
    "Collapsed": "false",
    "tags": []
   },
   "source": [
    "## <a id='libraries'></a>Processing and visualising data with Python libraries"
   ]
  },
  {
   "cell_type": "markdown",
   "metadata": {
    "Collapsed": "false"
   },
   "source": [
    "Python libraries (also known as packages) are similar to a toolbox or a drawer of utensils you find in your kitchen. They contain a set of tools for a specific purpose. For example, you might use a set of tools for cooking a meal or replacing a tire on a car. You would not use your cooking utensils for replacing a tire, nor the other way around. Thus, finding the right set of tool sets or the right libraries for what you want to do is important. In this training school, you will use Python libraries for processing data and for visualising data. In this section, you will learn about:\n",
    "\n",
    "- How to import libraries \n",
    "- Data processing libraries\n",
    "- Visualisation libraries\n",
    "- Other Python libraries"
   ]
  },
  {
   "cell_type": "markdown",
   "metadata": {
    "tags": []
   },
   "source": [
    "### How to import libraries\n",
    "\n",
    "In order to use the tools in a library, you need to first import it at the start of your Jupyter notebook. In fact, the first code cell in the workflow notebooks imports the libraries you will need in the workflow. The benefit of importing all the libraries upfront is that you can see immediately which libraries are required for the entire workflow to run."
   ]
  },
  {
   "cell_type": "markdown",
   "metadata": {},
   "source": [
    "The simplest way to import a library is to use the command `import` followed by the name of the library. In the code cell below, the library `numpy` is imported."
   ]
  },
  {
   "cell_type": "code",
   "execution_count": null,
   "metadata": {},
   "outputs": [],
   "source": [
    "import numpy"
   ]
  },
  {
   "cell_type": "markdown",
   "metadata": {},
   "source": [
    "If you wanted to give the library a different name to reduce the number of letters you need to type when using a function from that library, you can specify an alternate name (or alias) with `as`. "
   ]
  },
  {
   "cell_type": "code",
   "execution_count": null,
   "metadata": {},
   "outputs": [],
   "source": [
    "import numpy as np"
   ]
  },
  {
   "cell_type": "markdown",
   "metadata": {},
   "source": [
    "A function is like a tool from the toolbox, such as a wrench or a measuring cup from your cooking drawer. To use a function, you need to first specify the library name as different libraries may have the same function name. This would be similar to `toolbox.scissors` versus `kitchen.scissors`, where you specify which pair of scissors you want to use from the toolbox or the kitchen. If you didn't want to type out `toolbox` each time, you could use `tb` as an alias. \n",
    "\n",
    "In the case of the library `numpy`, it now has the alias `np`. Instead of having to type `numpy.arange(6)` to use the `arange` function, you can just type `np.arange(6)`."
   ]
  },
  {
   "cell_type": "markdown",
   "metadata": {},
   "source": [
    "You can also import just specific parts of a library. These parts are also known as modules. A library can be made up of several modules. For example, we can just import the `colors` module from `matplotlib` as follows:"
   ]
  },
  {
   "cell_type": "code",
   "execution_count": null,
   "metadata": {},
   "outputs": [],
   "source": [
    "import matplotlib.colors"
   ]
  },
  {
   "cell_type": "markdown",
   "metadata": {},
   "source": [
    "Another way to just import a part of a library is to use `from... import...`. This imports a single function from a module. In the code cell below, the function `Axes` is imported from the `matplotlib.axes` module."
   ]
  },
  {
   "cell_type": "code",
   "execution_count": null,
   "metadata": {
    "tags": []
   },
   "outputs": [],
   "source": [
    "from matplotlib.axes import Axes"
   ]
  },
  {
   "cell_type": "markdown",
   "metadata": {},
   "source": [
    "<br>"
   ]
  },
  {
   "cell_type": "markdown",
   "metadata": {
    "Collapsed": "false"
   },
   "source": [
    "\n",
    "**Note:** In order to import a library, you need to download and install the library beforehand. In the JupyterLab environment prepared for you, the libraries have been preinstalled. If you want to replicate this environment on your own desktop or laptop to work locally, please follow the instructions in [this notebook](../02_jupyter/25_local_environment.ipynb)."
   ]
  },
  {
   "cell_type": "markdown",
   "metadata": {},
   "source": [
    "### Data processing libraries\n",
    "\n",
    "Often, the data you download may need to be processed into a different form to answer the questions you have. For example, you may need to filter out missing data values or combine data from different satellite instruments into a single time series. This is where data processing libraries come in handy. The following data processing libraries are useful for reading and manipulating various data types:"
   ]
  },
  {
   "cell_type": "markdown",
   "metadata": {
    "jp-MarkdownHeadingCollapsed": true,
    "tags": []
   },
   "source": [
    "#### NumPy\n",
    "\n",
    "The [NumPy](https://numpy.org/doc/stable/index.html) library provides a \"universal standard for working with numerical data in Python\" ([Source](https://numpy.org/doc/stable/user/absolute_beginners.html)). The library contains multidimensional array and matrix data structures as well as a wide variety of mathematical operations for arrays and matrices. Numerous other libraries including [Pandas](https://pandas.pydata.org/docs/user_guide/index.html) and [Matplotlib](https://matplotlib.org/stable/index.html) use the data structures and operations from NumPy. \n",
    "\n",
    "*Fun fact: NumPy's full name is \"Numerical Python\".*\n",
    "\n"
   ]
  },
  {
   "cell_type": "markdown",
   "metadata": {},
   "source": [
    "#### Pandas\n",
    "\n",
    "The [Pandas](https://pandas.pydata.org/docs/user_guide/index.html) library is commonly used for working with tabular data or data that has rows and columns. For example, data stored in a [Comma-Separated Values (CSV)](https://en.wikipedia.org/wiki/Comma-separated_values) file. \n",
    "\n",
    "The two data structures associated with Pandas include: \n",
    "\n",
    "1) `Series` which \"is a one-dimensional labeled array capable of holding any data type (integers, strings, floating point numbers, Python objects, etc.)\" ([Source](https://pandas.pydata.org/docs/user_guide/dsintro.html#:~:text=is%20a%20one%2Ddimensional%20labeled%20array%20capable%20of%20holding%20any%20data%20type%20(integers%2C%20strings%2C%20floating%20point%20numbers%2C%20Python%20objects%2C%20etc.)))\n",
    "\n",
    "2) `Dataframe` which \"is a 2-dimensional labeled data structure with columns of potentially different types\" similar to a spreadsheet or table. ([Source](https://pandas.pydata.org/docs/user_guide/dsintro.html#:~:text=is%20a%202%2Ddimensional%20labeled%20data%20structure%20with%20columns%20of%20potentially%20different%20types.))"
   ]
  },
  {
   "cell_type": "markdown",
   "metadata": {
    "tags": []
   },
   "source": [
    "#### xarray\n",
    "\n",
    "The [xarray](https://docs.xarray.dev/en/stable/getting-started-guide/index.html) library is very useful for working with multi-dimensional data. For example, data that is stored in a Network Common Data Form ([netcdf](https://www.unidata.ucar.edu/software/netcdf/)) file. \n",
    "\n",
    "A few things to note:   \n",
    "\n",
    "1) An xarray `DataArray` is a \"multi-dimensional array with labeled or named dimensions.\" ([Source](https://docs.xarray.dev/en/stable/user-guide/terminology.html)) Examples of dimensions include “time”, “latitude” or “longitude”.\n",
    "\n",
    "2) An xarray `Dataset` is like a bag or container which can hold multiple xarray `DataArray` objects. \n",
    "\n",
    "3) Metadata in the form of attributes can be found in both `DataArray` and `Dataset` objects. \n",
    "\n"
   ]
  },
  {
   "cell_type": "markdown",
   "metadata": {
    "Collapsed": "false"
   },
   "source": [
    "<div class=\"alert alert-block alert-warning\" align=\"center\">\n",
    "    <b>Recommended:</b> Read the xarray <a href=\"https://docs.xarray.dev/en/stable/user-guide/terminology.html\">terminology page</a> for a definition of important terms.\n",
    "</div>"
   ]
  },
  {
   "cell_type": "markdown",
   "metadata": {
    "tags": []
   },
   "source": [
    "#### Satpy\n",
    "\n",
    "The [Satpy](https://satpy.readthedocs.io/en/stable/) library enables you to read, manipulate and write data from satellite instruments. It is also useful for visualising this data in combination with other libraries. \n",
    "\n",
    "The following are some things that you can do with Satpy ([Source](https://satpy.readthedocs.io/en/stable/#:~:text=Satpy%20also%20provides,source%20Pytroll%20group.)): \n",
    "\n",
    "1. Convert between file formats to xarray `DataArray` and `Dataset` classes\n",
    "\n",
    "2. Create Red-Green-Blue (RGB) or other types of [image composites](https://satpy.readthedocs.io/en/stable/composites.html)\n",
    "\n",
    "3. Do atmospheric correction or visual [enhancement](https://satpy.readthedocs.io/en/stable/enhancements.html) of images\n",
    "\n",
    "4. [Save](https://satpy.readthedocs.io/en/stable/writers.html) output images to file formats such as PNG, GeoTIFF and NetCDF\n",
    "\n",
    "5. [Resample](https://satpy.readthedocs.io/en/stable/resample.html) data to geographic projected grids. \n"
   ]
  },
  {
   "cell_type": "markdown",
   "metadata": {},
   "source": [
    "#### pyhdf\n",
    "\n",
    "Another data format you may encounter is a Hierarchical Data Format (HDF) file, especially for data from the United States. This data file format is \"designed by the National Center for Supercomputing Applications (NCSA) to assist users in the storage and manipulation of scientific data across diverse operating systems and machines.\" ([Source](https://asdc.larc.nasa.gov/documents/tools/hdf.pdf)) The [pyhdf](https://fhs.github.io/pyhdf/) library is useful for working with data in the HDF file format. \n",
    "\n",
    "Some things to note about the HDF data format ([Source](https://asdc.larc.nasa.gov/documents/tools/hdf.pdf)):  \n",
    "\n",
    "1. HDF supports a variety of data types including scientific data arrays, tables, text annotations and raster images\n",
    "\n",
    "2. It is self-describing, which means that it contains metadata which describes the data in the file"
   ]
  },
  {
   "cell_type": "markdown",
   "metadata": {},
   "source": [
    "### Visualisation libraries\n",
    "\n",
    "After processing the data into a suitable form, you may wish to visualise this data in the form of a graph, map or animation using a visualisation library. Note that as many libraries use American English, the spelling used for \"visualise\" is often \"visualize\"."
   ]
  },
  {
   "cell_type": "markdown",
   "metadata": {},
   "source": [
    "#### Matplotlib\n",
    "\n",
    "The [Matplotlib](https://matplotlib.org/stable/index.html) library enables you to create Python visualisations that are static, animated, and interactive. Common uses of Matplotlib you may encounter in this training include generating figures such as line graphs, bar charts, scatterplots, maps or animations. You can also use Matplotlib to generate customised color ramps for your figures."
   ]
  },
  {
   "cell_type": "markdown",
   "metadata": {},
   "source": [
    "#### Cartopy\n",
    "\n",
    "The [Cartopy](https://scitools.org.uk/cartopy/docs/latest/) library is essential for plotting maps. As it is built on top of Matplotlib, you will often see code which uses both these libraries in the creation of a map. \n",
    "\n",
    "Some things you can use Cartopy for: \n",
    "\n",
    "1. Defining projections of data\n",
    "\n",
    "2. Adding and customising coastlines and country borders to maps\n",
    "\n",
    "3. Adding and customising gridlines that show latitude and longitude to maps"
   ]
  },
  {
   "cell_type": "markdown",
   "metadata": {},
   "source": [
    "### Other libraries\n",
    "\n",
    "In the training material, you may encounter a few other miscellaneous libraries. This section explains what these are used for."
   ]
  },
  {
   "cell_type": "markdown",
   "metadata": {},
   "source": [
    "#### glob\n",
    "\n",
    "The [glob](https://docs.python.org/3/library/glob.html) module is part of the standard Python library. It is used to search for files whose filenames match a certain pattern. For example, if you would like to return all filenames that contain a certain date or name of instrument in the filename. [Wildcard characters](https://pymotw.com/2/glob/) are often used for these searches."
   ]
  },
  {
   "cell_type": "markdown",
   "metadata": {},
   "source": [
    "#### datetime\n",
    "\n",
    "The [datetime](https://docs.python.org/3/library/datetime.html) module is a part of the standard Python library. It is often used to generate a datetime object either for using as a dimension within an xarray `DataArray` or `Dataset`, or to convert between different date/time formats."
   ]
  },
  {
   "cell_type": "markdown",
   "metadata": {},
   "source": [
    "#### warnings\n",
    "\n",
    "The [warnings](https://docs.python.org/3/library/warnings.html) module is a part of the standard Python library. As the [documentation](https://docs.python.org/3/library/warnings.html#:~:text=typically%20issued%20in%20situations%20where%20it%20is%20useful%20to%20alert%20the%20user%20of%20some%20condition%20in%20a%20program%2C%20where%20that%20condition%20(normally)%20doesn%E2%80%99t%20warrant%20raising%20an%20exception%20and%20terminating%20the%20program.%20For%20example%2C%20one%20might%20want%20to%20issue%20a%20warning%20when%20a%20program%20uses%20an%20obsolete%20module.) describes, warnings are \"typically issued in situations where it is useful to alert the user of some condition in a program, where that condition (normally) doesn’t warrant raising an exception and terminating the program.\" This means, warnings do not result in the Python program terminating but an error or exception does.\n",
    "\n",
    "In general, the [warnings filter](https://docs.python.org/3/library/warnings.html#:~:text=The%20warnings%20filter%20controls%20whether%20warnings%20are%20ignored%2C%20displayed%2C%20or%20turned%20into%20errors%20(raising%20an%20exception).) can be used to show, ignore or convert warnings into errors. The following code block shows how you can use the warnings filter to ignore all warnings. "
   ]
  },
  {
   "cell_type": "code",
   "execution_count": null,
   "metadata": {},
   "outputs": [],
   "source": [
    "import warnings\n",
    "warnings.filterwarnings('ignore')"
   ]
  },
  {
   "cell_type": "markdown",
   "metadata": {},
   "source": [
    "You can also use a `simplefilter` to conduct an action on a category of warnings. In the code block below, the filter ignores all runtime warnings. \n"
   ]
  },
  {
   "cell_type": "code",
   "execution_count": null,
   "metadata": {},
   "outputs": [],
   "source": [
    "warnings.simplefilter(action = \"ignore\", category = RuntimeWarning)"
   ]
  },
  {
   "cell_type": "markdown",
   "metadata": {
    "Collapsed": "false"
   },
   "source": [
    "<hr>"
   ]
  },
  {
   "cell_type": "markdown",
   "metadata": {
    "Collapsed": "false",
    "tags": []
   },
   "source": [
    "## <a id='functions'></a>Our Functions Library"
   ]
  },
  {
   "cell_type": "markdown",
   "metadata": {},
   "source": [
    "The training school materials include a [functions library](../04_data_workflows/functions.ipynb), which is a collection of **pre-defined functions that support the learner with data loading, pre-processing and visualization**. Learners with basic Python knowledge learn Python by applying these functions, where only keyword arguments have to be provided. Learners with more Python experience can examine the functions in a separate notebook or build their own functions."
   ]
  },
  {
   "cell_type": "markdown",
   "metadata": {},
   "source": [
    "For example, the following code block shows the function `generate_geographical_subset`, which is used to crop or subset an xarray Data Array to a specific geographical region. "
   ]
  },
  {
   "cell_type": "code",
   "execution_count": null,
   "metadata": {},
   "outputs": [],
   "source": [
    "def generate_geographical_subset(xarray, latmin, latmax, lonmin, lonmax, reassign=False):\n",
    "    \"\"\" \n",
    "    Generates a geographical subset of a xarray.DataArray and if kwarg reassign=True, shifts the longitude grid \n",
    "    from a 0-360 to a -180 to 180 deg grid.\n",
    "    \n",
    "    Parameters:\n",
    "        xarray(xarray.DataArray): a xarray DataArray with latitude and longitude coordinates\n",
    "        latmin, latmax, lonmin, lonmax(int): lat/lon boundaries of the geographical subset\n",
    "        reassign(boolean): default is False\n",
    "        \n",
    "    Returns:\n",
    "        Geographical subset of a xarray.DataArray.\n",
    "    \"\"\"   \n",
    "    if(reassign):\n",
    "        xarray = xarray.assign_coords(longitude=(((xarray.longitude + 180) % 360) - 180))\n",
    "    return xarray.where((xarray.latitude < latmax) & (xarray.latitude > latmin) & (xarray.longitude < lonmax) & (xarray.longitude > lonmin),drop=True)"
   ]
  },
  {
   "cell_type": "markdown",
   "metadata": {},
   "source": [
    "To use this function, you need to provide **keyword arguments** such as the minimum and maximum longitudes (`lonmin` and `lonmax`), the minimum and maximum latitudes (`latmin` and `latmax`), as well as the variable that the xarray Data Array is stored in. In the following code block, which generates a geographical subset for Europe, the variable name of the xarray Data Array is `dust_aod`. Thus, the keyword argument for the `xarray` parameter is `dust_aod`."
   ]
  },
  {
   "cell_type": "code",
   "execution_count": null,
   "metadata": {},
   "outputs": [],
   "source": [
    "europe_subset = generate_geographical_subset(xarray=dust_aod, \n",
    "                                             latmin=28, \n",
    "                                             latmax=71, \n",
    "                                             lonmin=-22, \n",
    "                                             lonmax=43)"
   ]
  },
  {
   "cell_type": "markdown",
   "metadata": {},
   "source": [
    "The functions library is stored in a Jupyter notebook. You can import the functions library using code which specifies the path to the functions notebook. Note that you may have to change the path depending on where the functions notebook is stored. If it is stored in the same folder as the notebook you are working on, you can use:"
   ]
  },
  {
   "cell_type": "code",
   "execution_count": null,
   "metadata": {
    "tags": []
   },
   "outputs": [],
   "source": [
    "%run ./functions.ipynb"
   ]
  },
  {
   "cell_type": "markdown",
   "metadata": {
    "tags": []
   },
   "source": [
    "If it is stored one folder or level above, you can use:"
   ]
  },
  {
   "cell_type": "code",
   "execution_count": null,
   "metadata": {},
   "outputs": [],
   "source": [
    "%run ../functions.ipynb"
   ]
  },
  {
   "cell_type": "markdown",
   "metadata": {
    "tags": []
   },
   "source": [
    "If it is stored two folders or levels above, you can use:"
   ]
  },
  {
   "cell_type": "code",
   "execution_count": null,
   "metadata": {
    "tags": []
   },
   "outputs": [],
   "source": [
    "%run ../../functions.ipynb"
   ]
  },
  {
   "cell_type": "markdown",
   "metadata": {
    "Collapsed": "false"
   },
   "source": [
    "<hr>"
   ]
  },
  {
   "cell_type": "markdown",
   "metadata": {},
   "source": [
    "<img src='../img/copernicus_logo.png' alt='Logo EU Copernicus' align='right' width='20%'><br><br><br><br>\n",
    "<p style=\"text-align:right;\">This project is licensed under <a href=\"../LICENSE\">GNU General Public License v3.0 only</a> and is developed under a Copernicus contract."
   ]
  },
  {
   "cell_type": "markdown",
   "metadata": {},
   "source": [
    "<p style=\"text-align:right;\"> <a href='https://training.eumetsat.int'>EUMETSAT Training</a> | <a href='mailto:training@eumetsat.int'>Contact the training team</a></p>"
   ]
  }
 ],
 "metadata": {
  "kernelspec": {
   "display_name": "Python 3 (ipykernel)",
   "language": "python",
   "name": "python3"
  },
  "language_info": {
   "codemirror_mode": {
    "name": "ipython",
    "version": 3
   },
   "file_extension": ".py",
   "mimetype": "text/x-python",
   "name": "python",
   "nbconvert_exporter": "python",
   "pygments_lexer": "ipython3",
   "version": "3.8.12"
  }
 },
 "nbformat": 4,
 "nbformat_minor": 4
}
