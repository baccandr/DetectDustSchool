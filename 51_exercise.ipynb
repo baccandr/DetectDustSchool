{
 "cells": [
  {
   "cell_type": "markdown",
   "metadata": {},
   "source": [
    "<img src='../img/dust_banner.png' alt='Training school and workshop on dust' align='center' width='100%'></img>\n",
    "\n",
    "<br>"
   ]
  },
  {
   "cell_type": "markdown",
   "metadata": {
    "Collapsed": "false",
    "tags": []
   },
   "source": [
    "# 01 - Practical exercise - Satellite I"
   ]
  },
  {
   "cell_type": "markdown",
   "metadata": {
    "tags": []
   },
   "source": [
    "### About"
   ]
  },
  {
   "cell_type": "markdown",
   "metadata": {},
   "source": [
    "> In March 2022, a continental-wide plume of Saharan dust extended across the Mediterranean Sea up as far as northern Europe. The dust outbreak lasted for a week from 15 to 22 March. According to [EUMETSAT](https://www.eumetsat.int/), \"Saharan dust has several impacts in the populated areas of Europe — from flight security to air quality and impacts on solar radiation. There were reports of red skies, the effect of dust dimming radiation, and dust deposits across Europe, including on snow in the Alps, associated with record concentrations of atmospheric aerosol measured by the Spanish air quality network.\" ([Source](https://www.eumetsat.int/widespread-dust-intrusion-across-europe))\n",
    "\n",
    "> You are an analyst working for the [Spanish Aviation Safety and Security Agency](https://www.seguridadaerea.gob.es/), also known by the acronym AESA (Spanish: Agencia Estatal de Seguridad Aérea). You are responsible for monitoring the development of this dust event. **Your supervisor asked you to use satellite data to illustrate the impact of this event over continental Spain (excluding Canary Islands) on 15 March 2022 between 12:30 and 13:15 UTC.**"
   ]
  },
  {
   "cell_type": "markdown",
   "metadata": {},
   "source": [
    "### Tasks"
   ]
  },
  {
   "cell_type": "markdown",
   "metadata": {
    "tags": []
   },
   "source": [
    "#### 1. Brainstorm\n",
    "  * What satellite data have you learned about? \n",
    "  * What is the difference between Level 1 and Level 2 data?\n",
    "  \n",
    "#### 2. Download the Suomi NPP VIIRS Level 1B data and visualize the natural colour RGB composite\n",
    "  * Based on data availability - which time stamp would you choose for getting a near real-time monitoring of dust from the Suomi NPP VIIRS instrument?\n",
    "  * **Hint**\n",
    "    * [Suomi NPP VIIRS Level 1B - Example notebook](../04_data_workflows/41_satellite_observations/413_VIIRS_L1B_RGB_load_browse.ipynb)\n",
    "    * [Data access](https://ladsweb.modaps.eosdis.nasa.gov/search/order/2/VNP02DNB--5200,VNP02IMG--5200,VNP02MOD--5200,VNP03DNB--5200,VNP03IMG--5200,VNP03MOD--5200)\n",
    "    * You can use [this website](http://bboxfinder.com/#0.000000,0.000000,0.000000,0.000000) to find the bounding box or latitude and longitude coordinates for Spain.\n",
    "\n",
    "#### 3. Download the MSG SEVIRI Level 1.5 data and visualize the Dust RGB composite\n",
    "  * Based on data availability - which time stamp would you choose for getting a near real-time monitoring of dust from the MSG SEVIRI instrument?\n",
    "  * **Hint**\n",
    "    * [MSG SEVIRI Level 1.5 - Example notebook](../04_data_workflows/41_satellite_observations/411_MSG_dust_product_L1_load_browse.ipynb)\n",
    "    * [Data access](https://data.eumetsat.int/data/map/EO:EUM:DAT:MSG:HRSEVIRI)\n",
    "\n",
    "#### 4. Download the Sentinel-5P TROPOMI Level 2 Aerosol Index data and visualize it\n",
    "  * Based on data availability - which time stamp would you choose for getting a near real-time monitoring of dust from the Sentinel-5P TROPOMI instrument?\n",
    "  * **Hint**\n",
    "    * [Sentinel-5P TROPOMI Level 2 Aerosol Index - Example notebook](../04_data_workflows/41_satellite_observations/415_Sentinel-5P_TROPOMI_AI_L2_load_browse.ipynb)\n",
    "    * [Data access](https://s5phub.copernicus.eu/dhus/#/home)\n",
    "\n",
    "#### 5. Interpret the results\n",
    "  * Compare the map using Sentinel-5P TROPOMI UVAI data with your RGB composites. \n",
    "  * Why is it important to use multiple sources of satellite data for the same event? "
   ]
  },
  {
   "cell_type": "markdown",
   "metadata": {
    "Collapsed": "false",
    "tags": []
   },
   "source": [
    "### Module outline\n",
    "* [1 - Suomi NPP VIIRS Level 1B natural colour RGB](#viirs)\n",
    "* [2 - Meteosat Second Generation SEVIRI Level 1.5 dust RGB](#msg_seviri)\n",
    "* [3 - Sentinel-5P TROPOMI Level 2 Aerosol Index](#s5p_ai)"
   ]
  },
  {
   "cell_type": "markdown",
   "metadata": {},
   "source": [
    "<hr>"
   ]
  },
  {
   "cell_type": "markdown",
   "metadata": {
    "Collapsed": "false"
   },
   "source": [
    "##### Load required libraries"
   ]
  },
  {
   "cell_type": "code",
   "execution_count": 1,
   "metadata": {},
   "outputs": [],
   "source": [
    "import glob\n",
    "import numpy as np\n",
    "\n",
    "import matplotlib.pyplot as plt\n",
    "import matplotlib.colors\n",
    "from matplotlib.axes import Axes\n",
    "\n",
    "import satpy\n",
    "from satpy.scene import Scene\n",
    "from satpy import find_files_and_readers\n",
    "import pyresample as prs\n",
    "\n",
    "import cartopy.crs as ccrs\n",
    "from cartopy.mpl.gridliner import LONGITUDE_FORMATTER, LATITUDE_FORMATTER\n",
    "from cartopy.mpl.geoaxes import GeoAxes\n",
    "GeoAxes._pcolormesh_patched = Axes.pcolormesh\n",
    "\n",
    "import warnings\n",
    "warnings.filterwarnings('ignore')\n",
    "warnings.simplefilter(action = \"ignore\", category = RuntimeWarning)"
   ]
  },
  {
   "cell_type": "markdown",
   "metadata": {},
   "source": [
    "##### Load helper functions"
   ]
  },
  {
   "cell_type": "code",
   "execution_count": 2,
   "metadata": {},
   "outputs": [],
   "source": [
    "%run ../functions.ipynb"
   ]
  },
  {
   "cell_type": "markdown",
   "metadata": {
    "Collapsed": "false"
   },
   "source": [
    "<hr>"
   ]
  },
  {
   "cell_type": "markdown",
   "metadata": {
    "tags": []
   },
   "source": [
    "### <a id='viirs'></a>1. Suomi NPP VIIRS Level 1B natural colour RGB"
   ]
  },
  {
   "cell_type": "code",
   "execution_count": 3,
   "metadata": {},
   "outputs": [
    {
     "data": {
      "text/plain": [
       "[]"
      ]
     },
     "execution_count": 3,
     "metadata": {},
     "output_type": "execute_result"
    }
   ],
   "source": [
    ".."
   ]
  },
  {
   "cell_type": "markdown",
   "metadata": {},
   "source": [
    "<hr>"
   ]
  },
  {
   "cell_type": "markdown",
   "metadata": {},
   "source": [
    "### <a id='msg_seviri'></a>2. Meteosat Second Generation SEVIRI Level 1.5 dust RGB"
   ]
  },
  {
   "cell_type": "code",
   "execution_count": null,
   "metadata": {
    "tags": []
   },
   "outputs": [],
   "source": []
  },
  {
   "cell_type": "markdown",
   "metadata": {},
   "source": [
    "<hr>"
   ]
  },
  {
   "cell_type": "markdown",
   "metadata": {
    "tags": []
   },
   "source": [
    "### <a id='s5p_ai'></a>3. Sentinel-5P TROPOMI Level 2 Aerosol Index"
   ]
  },
  {
   "cell_type": "code",
   "execution_count": null,
   "metadata": {},
   "outputs": [],
   "source": []
  },
  {
   "cell_type": "markdown",
   "metadata": {},
   "source": [
    "<hr>"
   ]
  },
  {
   "cell_type": "markdown",
   "metadata": {},
   "source": [
    "<br>"
   ]
  },
  {
   "cell_type": "markdown",
   "metadata": {},
   "source": [
    "<hr>"
   ]
  },
  {
   "cell_type": "markdown",
   "metadata": {},
   "source": [
    "<img src='../img/copernicus_logo.png' alt='Logo EU Copernicus' align='left' width='20%'><br><br><br><br>\n",
    "This project is licensed under <a href=\"../../LICENSE\">GNU General Public License v3.0 only</a> and is developed under a Copernicus contract.\n",
    "\n",
    "<p style=\"text-align:right;\"> <a href='https://training.eumetsat.int'>EUMETSAT Training</a> | <a href='mailto:training@eumetsat.int'>Contact the training team</a></p>"
   ]
  }
 ],
 "metadata": {
  "kernelspec": {
   "display_name": "Python 3 (ipykernel)",
   "language": "python",
   "name": "python3"
  },
  "language_info": {
   "codemirror_mode": {
    "name": "ipython",
    "version": 3
   },
   "file_extension": ".py",
   "mimetype": "text/x-python",
   "name": "python",
   "nbconvert_exporter": "python",
   "pygments_lexer": "ipython3",
   "version": "3.8.12"
  }
 },
 "nbformat": 4,
 "nbformat_minor": 4
}
