{
 "cells": [
  {
   "cell_type": "markdown",
   "metadata": {
    "Collapsed": "false"
   },
   "source": [
    "<img src='../img/EU-Copernicus-EUM_3Logos.png' alt='Logo EU Copernicus EUMETSAT' align='right' width='40%'></img>"
   ]
  },
  {
   "cell_type": "markdown",
   "metadata": {
    "Collapsed": "false"
   },
   "source": [
    "<br>"
   ]
  },
  {
   "cell_type": "markdown",
   "metadata": {},
   "source": [
    "<br>"
   ]
  },
  {
   "cell_type": "markdown",
   "metadata": {
    "Collapsed": "false"
   },
   "source": [
    "# Replicating the JupyterLab environment locally - Preparatory Material"
   ]
  },
  {
   "cell_type": "markdown",
   "metadata": {
    "Collapsed": "false",
    "tags": []
   },
   "source": [
    "## Introduction"
   ]
  },
  {
   "cell_type": "markdown",
   "metadata": {
    "Collapsed": "false"
   },
   "source": [
    "This notebook will provide guidance on how to replicate the JupyterLab environment we used during the training school on your local machine (your laptop or desktop). Follow these steps to replicate the JupyterLab environment: \n",
    "1. [View the notebooks online](#online) [Optional]\n",
    "2. [Clone or download the code repository](#repository)\n",
    "3. [Download the data](#data)\n",
    "4. [Install required Python packages](#environment)\n",
    "5. [Run JupyterLab locally](#jupyter)\n",
    "6. [Decompress data and modify file paths](#filepaths)"
   ]
  },
  {
   "cell_type": "markdown",
   "metadata": {
    "Collapsed": "false"
   },
   "source": [
    "<hr>"
   ]
  },
  {
   "cell_type": "markdown",
   "metadata": {
    "tags": []
   },
   "source": [
    "## <a id='online'></a>1. View the notebooks online [Optional]\n",
    "\n",
    "This training material is made available via EUMETSAT's [EUMETlab](https://gitlab.eumetsat.int/eumetlab) training space on [GitLab](https://gitlab.com/gitlab-org/gitlab). While GitLab offers integrated rendering of Jupyter Notebooks, its rendering capabilities is limited. You can view the notebooks using [nbviewer](https://nbviewer.jupyter.org/). \n",
    "\n",
    "**Follow this [link](https://nbviewer.org/url/gitlab.eumetsat.int/eumetlab/atmosphere/atmosphere/raw/master/90_workshops/202302_dust_training_school/00_index.ipynb) to view notebooks in the repository using nbviewer.**\n"
   ]
  },
  {
   "cell_type": "markdown",
   "metadata": {
    "Collapsed": "false"
   },
   "source": [
    "<hr>"
   ]
  },
  {
   "cell_type": "markdown",
   "metadata": {
    "tags": []
   },
   "source": [
    "## <a id='repository'></a>2. Clone or download the code repository\n",
    "\n",
    "The first step to replicating the JupyterLab environment locally is to clone [this repository](https://gitlab.eumetsat.int/eumetlab/atmosphere/atmosphere/-/blob/master/90_workshops/202302_dust_training_school/).\n",
    "\n",
    "**Here are detailed instructions on how to to [clone a repository](https://docs.gitlab.com/ee/gitlab-basics/start-using-git.html#clone-a-repository) from GitLab.**\n"
   ]
  },
  {
   "cell_type": "markdown",
   "metadata": {
    "Collapsed": "false"
   },
   "source": [
    "<hr>"
   ]
  },
  {
   "cell_type": "markdown",
   "metadata": {
    "tags": []
   },
   "source": [
    "## <a id='data'></a>3. Download the data\n",
    "\n",
    "The data used in this training school are available in the [JupyterLab training platform](https://training.ltpy.adamplatform.eu/) in the `eodata` folder as a compressed `tar` file. \n",
    "\n",
    "**Follow this link to access and download the [data](https://training.ltpy.adamplatform.eu/hub/user-redirect/lab/tree/eodata/dust/data_part1.tar.gz).** Right-click on the data file and click on \"Download\" to download the data. After downloading is complete, make sure you move the data `tar` file into the same folder as the cloned repository.\n",
    "\n",
    "<br>\n",
    "\n",
    "<div style='text-align:center;'>\n",
    "<figure><img src='../img/localenv_download.png' width='50%'/>\n",
    "    <figcaption><i>Downloading the data tar file.</i></figcaption>\n",
    "</figure>\n",
    "</div>"
   ]
  },
  {
   "cell_type": "markdown",
   "metadata": {
    "Collapsed": "false"
   },
   "source": [
    "<hr>"
   ]
  },
  {
   "cell_type": "markdown",
   "metadata": {
    "tags": []
   },
   "source": [
    "## <a id='environment'></a>4. Install the required Python packages\n",
    "\n",
    "In case you wish to reproduce the course modules on your local setup, the following Python version and Python packages will be required:\n",
    "\n",
    "* Python version: **Python 3.10.4**\n",
    "* Python packages: see [environment.yml](./environment.yml)\n",
    "\n",
    "Python packages can be installed with: `conda env create -f environment.yml`.\n",
    "\n",
    "**Follow [these instructions](https://conda.io/projects/conda/en/latest/user-guide/tasks/manage-environments.html#creating-an-environment-from-an-environment-yml-file) to create an environment from the `environment.yml` file provided.**"
   ]
  },
  {
   "cell_type": "markdown",
   "metadata": {
    "Collapsed": "false"
   },
   "source": [
    "<hr>"
   ]
  },
  {
   "cell_type": "markdown",
   "metadata": {
    "tags": []
   },
   "source": [
    "## <a id='jupyter'></a>5. Run JupyterLab locally\n",
    "\n",
    "You should already have installed JupyterLab during Step 4. If you need additional help, refer to this [link](https://jupyterlab.readthedocs.io/en/stable/getting_started/installation.html).\n",
    "\n",
    "**You need to navigate to the folder where you have cloned the repository and stored the data.** You can do so using the [Command Prompt](https://www.howtogeek.com/659411/how-to-change-directories-in-command-prompt-on-windows-10/) (Windows) or the Terminal in [Mac](https://www.macworld.com/article/221277/command-line-navigating-files-folders-mac-terminal.html) or [Linux](https://linuxize.com/post/linux-cd-command/). \n",
    "\n",
    "**Next, follow [these instructions](https://jupyterlab.readthedocs.io/en/stable/getting_started/starting.html) to start JupyterLab on your laptop or desktop.** If you've navigated to the right place, you should be able to see the repository and data tar file in your workspace after starting JupyterLab."
   ]
  },
  {
   "cell_type": "markdown",
   "metadata": {
    "Collapsed": "false"
   },
   "source": [
    "<hr>"
   ]
  },
  {
   "cell_type": "markdown",
   "metadata": {
    "tags": []
   },
   "source": [
    "## <a id='filepaths'></a>6. Decompress data and modify file paths\n",
    "\n",
    "**Next, you will need to decompress the tar file containing the data.** Here is some example code you can modify and use within a Jupyter Notebook to decompress the file. You can use the library [tarfile](https://docs.python.org/3/library/tarfile.html), which is part of the Python library, to open and extract the files."
   ]
  },
  {
   "cell_type": "code",
   "execution_count": null,
   "metadata": {},
   "outputs": [],
   "source": [
    "# Import the library\n",
    "import tarfile\n",
    "\n",
    "# Open file\n",
    "tar = tarfile.open('./data_part1.tar.gz')\n",
    "\n",
    "# Extract file into the mydata folder\n",
    "tar.extractall('./mydata/')\n",
    "  \n",
    "tar.close()"
   ]
  },
  {
   "cell_type": "markdown",
   "metadata": {},
   "source": [
    "**You may need to modify the data file paths within the Jupyter Notebooks to navigate to the correct folder where the data is stored**, especially if you changed the name of the data folder."
   ]
  },
  {
   "cell_type": "markdown",
   "metadata": {
    "Collapsed": "false"
   },
   "source": [
    "<hr>"
   ]
  },
  {
   "cell_type": "markdown",
   "metadata": {},
   "source": [
    "<img src='../../img/copernicus_logo.png' alt='Logo EU Copernicus' align='left' width='20%'><br><br><br><br>\n",
    "This project is licensed under <a href=\"../../LICENSE\">GNU General Public License v3.0 only</a> and is developed under a Copernicus contract.\n",
    "\n",
    "<p style=\"text-align:right;\"> <a href='https://training.eumetsat.int'>EUMETSAT Training</a> | <a href='mailto:training@eumetsat.int'>Contact the training team</a></p>"
   ]
  }
 ],
 "metadata": {
  "kernelspec": {
   "display_name": "Python 3 (ipykernel)",
   "language": "python",
   "name": "python3"
  },
  "language_info": {
   "codemirror_mode": {
    "name": "ipython",
    "version": 3
   },
   "file_extension": ".py",
   "mimetype": "text/x-python",
   "name": "python",
   "nbconvert_exporter": "python",
   "pygments_lexer": "ipython3",
   "version": "3.8.12"
  }
 },
 "nbformat": 4,
 "nbformat_minor": 4
}
