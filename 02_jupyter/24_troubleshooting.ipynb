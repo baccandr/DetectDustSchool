{
 "cells": [
  {
   "cell_type": "markdown",
   "id": "90578f08-e465-4c01-98c7-7bafd93b78c9",
   "metadata": {
    "Collapsed": "false"
   },
   "source": [
    "<img src='../img/EU-Copernicus-EUM_3Logos.png' alt='Logo EU Copernicus EUMETSAT' align='right' width='40%'></img>"
   ]
  },
  {
   "cell_type": "markdown",
   "id": "c1b66c9e-7afe-43ef-b42c-e8141af1faa0",
   "metadata": {
    "Collapsed": "false"
   },
   "source": [
    "<br>"
   ]
  },
  {
   "cell_type": "markdown",
   "id": "6dafe203-5208-4759-87fb-aa81833f7db9",
   "metadata": {},
   "source": [
    "<br>"
   ]
  },
  {
   "cell_type": "markdown",
   "id": "5ac99e9f-38a4-45ec-8658-3a1cec382c59",
   "metadata": {
    "Collapsed": "false"
   },
   "source": [
    "# Troubleshooting - Preparatory Material"
   ]
  },
  {
   "cell_type": "markdown",
   "id": "518407d6-fbfe-45ad-a5fc-b0fbe273c44e",
   "metadata": {
    "Collapsed": "false",
    "tags": []
   },
   "source": [
    "## Introduction"
   ]
  },
  {
   "cell_type": "markdown",
   "id": "0b32cde6-ae4a-42ae-abe8-5689006c8f64",
   "metadata": {
    "Collapsed": "false"
   },
   "source": [
    "This notebook gives some hints about what you can do if your notebook or a code cell does not react as expected, or you think something isn't working in your Jupyter Notebook.\n",
    "\n",
    "You will learn about: \n",
    "* [Check the status of a code cell](#processing)\n",
    "* [Restart kernel](#kernel)\n",
    "* [Clean up the environment](#environment)\n"
   ]
  },
  {
   "cell_type": "markdown",
   "id": "22004461-73f0-4efd-be3b-bcc7cc86d0a2",
   "metadata": {
    "Collapsed": "false",
    "tags": []
   },
   "source": [
    "<hr>"
   ]
  },
  {
   "cell_type": "markdown",
   "id": "52d56e5e-60ad-4778-9137-80e2c3ef0e86",
   "metadata": {
    "Collapsed": "false",
    "tags": []
   },
   "source": [
    "## <a id='processing'></a>Check the status of a code cell\n",
    "\n",
    "It may happen that you execute a cell (with `Ctrl + ENTER`) and you do not see an output straight away. This can mean that your code is still processing. Wait a few minutes as some code blocks, especially those creating an animation or drawing a figure, can take a while to run. To see the status of your code cell you can check the `[ ]` on it's left side.  A code cell can have the following status:\n",
    "* **Not executed**: A non-executed cell can be recognised by the square brackets (`[ ]`) being empty.\n",
    "\n"
   ]
  },
  {
   "cell_type": "code",
   "execution_count": null,
   "id": "4efb7a91-2182-43d3-ac36-2dfe4962fc5b",
   "metadata": {},
   "outputs": [],
   "source": [
    "# This is a non-executed cell"
   ]
  },
  {
   "cell_type": "markdown",
   "id": "3a9fc190-5bfb-4cf5-ad74-ec300594d475",
   "metadata": {},
   "source": [
    "* **Executed:** An executed cell has a number in the square brackets, e.g. `[1]`. The number shows the sequence in which the cell was executed.\n"
   ]
  },
  {
   "cell_type": "code",
   "execution_count": 5,
   "id": "d960be44-8005-4b5c-b498-f3ef1f3b4cc7",
   "metadata": {},
   "outputs": [],
   "source": [
    "# This is an executed cell"
   ]
  },
  {
   "cell_type": "markdown",
   "id": "f9d3348c-13bb-4e86-8c80-e5261c0ee6e0",
   "metadata": {},
   "source": [
    "* **In processing mode:** While a cell is in processing mode, an asterisk appears in the square brackets (`[*]`). Additionally, during a cell execution, the circle on the top right of a notebook is coloured in grey (see image below)."
   ]
  },
  {
   "cell_type": "markdown",
   "id": "926b67ac-3357-4848-8c62-7a492e63438b",
   "metadata": {},
   "source": [
    "<img src='../img/cell_execution.png' alt='cell_execution' width='50%'>\n",
    "\n"
   ]
  },
  {
   "cell_type": "markdown",
   "id": "cd41c54c-aa95-450f-80f7-4acb7a8644f7",
   "metadata": {
    "Collapsed": "false"
   },
   "source": [
    "<br>\n",
    "<div class=\"alert alert-block alert-warning\" align=\"left\">\n",
    "<b>Attention:</b><br> Code cells in notebooks can be executed in a non-consecutive order, which can lead to problems, if a code cell requires the execution of another code cell before. Hence, a good practice is to try to execute your code cells consequtively (one after another) within a notebook, rather than skipping forwards and backwards.\n",
    "</div>"
   ]
  },
  {
   "cell_type": "markdown",
   "id": "b2780a7b-79db-4afb-8288-01520e3a3838",
   "metadata": {
    "Collapsed": "false",
    "tags": []
   },
   "source": [
    "<hr>"
   ]
  },
  {
   "cell_type": "markdown",
   "id": "99325925-1d53-45d3-94a5-cfb5a256a39f",
   "metadata": {
    "Collapsed": "false"
   },
   "source": [
    "## <a id='kernel'></a>Restart kernel"
   ]
  },
  {
   "cell_type": "markdown",
   "id": "19a6771c-0846-4762-896f-84379b6091b3",
   "metadata": {},
   "source": [
    "Sometimes, it may happen that the notebook's processing kernel dies. This can happen if you worked a long time on the notebook without refreshing it. If you execute a cell and nothing happens and you can see that the cell is no longer in processing mode, then it is recommended to restart the processing kernel. You restart the kernel of your notebook by either clicking on the circled arrow in the notebooks menu (see Figure below)."
   ]
  },
  {
   "cell_type": "markdown",
   "id": "4adaf657-fb6e-4902-9fe6-191bf79bafa0",
   "metadata": {},
   "source": [
    "<img src='../img/restart_kernel.png' alt='cell_execution' width='40%'>"
   ]
  },
  {
   "cell_type": "markdown",
   "id": "dcbb859b-a54d-40bd-85fe-db9cfc10e30f",
   "metadata": {},
   "source": [
    "Alternatively, you can go to the JupyterLab menu and under the menu item `Kernel` you find different options to shut down or restart a notebook's processing kernel."
   ]
  },
  {
   "cell_type": "markdown",
   "id": "89ea1ccb-d802-426d-856d-306e9b961bad",
   "metadata": {},
   "source": [
    "<img src='../img/restart_kernel_2.png' alt='cell_execution' width='40%'>"
   ]
  },
  {
   "cell_type": "markdown",
   "id": "1e54d3d2-9a6e-4e5d-b355-4639376117c3",
   "metadata": {
    "Collapsed": "false"
   },
   "source": [
    "<br>\n",
    "<div class=\"alert alert-block alert-warning\" align=\"center\">\n",
    "<b>Recommended:</b> Try restarting the kernel of this notebook.\n",
    "</div>"
   ]
  },
  {
   "cell_type": "markdown",
   "id": "80085f17-4fa3-4b12-9b75-6e9f209ebdfc",
   "metadata": {},
   "source": [
    "<hr>"
   ]
  },
  {
   "cell_type": "markdown",
   "id": "928876ed-e19d-46a8-91e1-d872651d62e4",
   "metadata": {
    "tags": []
   },
   "source": [
    "## <a id='environment'></a>Clean up the environment"
   ]
  },
  {
   "cell_type": "markdown",
   "id": "a3c61001-0cfb-4190-9921-277165f92813",
   "metadata": {},
   "source": [
    "A JupyterLab environment is similar to a workstation or your personal computer. If you end up having too many programs and browser tabs open, the reaction time slows down. In a JupyterLab interface, it easily happens to open many tabs (notebooks) at once and for each notebook, a distinct processing kernel is started. Hence, every now and then, it is recommended to clean your working environment, close open notebooks and shut down kernels you do not need at the moment.\n",
    "\n",
    "On the left side bar of the JupyterLab interface, the menu has a `square in a circle` as second tab. If you go to this tab, you get an overview of notebooks currently open as well as kernels currently active. There, you can manage your environment, close notebooks or shut down kernels (see Figure below). You can close notebooks and kernels individually or all at once. Please note that if you close a notebook, the kernel does not shut down automatically.\n"
   ]
  },
  {
   "cell_type": "markdown",
   "id": "f864a806-28e0-49e7-9d41-4759398bdf44",
   "metadata": {},
   "source": [
    "<img src='../img/environment.png' alt='cell_execution' width='55%'>"
   ]
  },
  {
   "cell_type": "markdown",
   "id": "76ffa6e9-2a86-4b99-b26e-3401a22a776b",
   "metadata": {
    "Collapsed": "false"
   },
   "source": [
    "<div class=\"alert alert-block alert-warning\" align=\"center\">\n",
    "<b>Recommended:</b> Go to the left sidebar menu and get an overview of your current environment. Are any notebooks open and kernels active?\n",
    "</div>"
   ]
  },
  {
   "cell_type": "markdown",
   "id": "cfa0daa3-cb2e-420f-9a39-627f35f2ffee",
   "metadata": {
    "Collapsed": "false"
   },
   "source": [
    "<hr>"
   ]
  },
  {
   "cell_type": "markdown",
   "id": "3d999ee3-734e-4946-884b-ed84a6beeb26",
   "metadata": {},
   "source": [
    "<img src='../../img/copernicus_logo.png' alt='Logo EU Copernicus' align='left' width='20%'><br><br><br><br>\n",
    "This project is licensed under <a href=\"../../LICENSE\">GNU General Public License v3.0 only</a> and is developed under a Copernicus contract.\n",
    "\n",
    "<p style=\"text-align:right;\"> <a href='https://training.eumetsat.int'>EUMETSAT Training</a> | <a href='mailto:training@eumetsat.int'>Contact the training team</a></p>"
   ]
  }
 ],
 "metadata": {
  "kernelspec": {
   "display_name": "Python 3 (ipykernel)",
   "language": "python",
   "name": "python3"
  },
  "language_info": {
   "codemirror_mode": {
    "name": "ipython",
    "version": 3
   },
   "file_extension": ".py",
   "mimetype": "text/x-python",
   "name": "python",
   "nbconvert_exporter": "python",
   "pygments_lexer": "ipython3",
   "version": "3.8.12"
  }
 },
 "nbformat": 4,
 "nbformat_minor": 5
}
