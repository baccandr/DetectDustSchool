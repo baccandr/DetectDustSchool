{
 "cells": [
  {
   "cell_type": "markdown",
   "id": "90578f08-e465-4c01-98c7-7bafd93b78c9",
   "metadata": {
    "Collapsed": "false"
   },
   "source": [
    "<img src='../img/EU-Copernicus-EUM_3Logos.png' alt='Logo EU Copernicus EUMETSAT' align='right' width='40%'></img>"
   ]
  },
  {
   "cell_type": "markdown",
   "id": "c1b66c9e-7afe-43ef-b42c-e8141af1faa0",
   "metadata": {
    "Collapsed": "false"
   },
   "source": [
    "<br>"
   ]
  },
  {
   "cell_type": "markdown",
   "id": "6dafe203-5208-4759-87fb-aa81833f7db9",
   "metadata": {},
   "source": [
    "<br>"
   ]
  },
  {
   "cell_type": "markdown",
   "id": "5ac99e9f-38a4-45ec-8658-3a1cec382c59",
   "metadata": {
    "Collapsed": "false"
   },
   "source": [
    "# JupyterLab - Preparatory Material"
   ]
  },
  {
   "cell_type": "markdown",
   "id": "518407d6-fbfe-45ad-a5fc-b0fbe273c44e",
   "metadata": {
    "Collapsed": "false",
    "tags": []
   },
   "source": [
    "## Introduction"
   ]
  },
  {
   "cell_type": "markdown",
   "id": "0b32cde6-ae4a-42ae-abe8-5689006c8f64",
   "metadata": {
    "Collapsed": "false"
   },
   "source": [
    "[JupyterLab](https://jupyterlab.readthedocs.io/en/stable/index.html) is a web-based interactive development environment for Jupyter notebooks, code, and data. This notebook will introduce you to a JupyterLab training platform that will be used in this training.\n",
    "\n",
    "You will learn about: \n",
    "* [How to register for an account](#account)\n",
    "* [Getting started with JupyterLab](#jupyterlab)"
   ]
  },
  {
   "cell_type": "markdown",
   "id": "22004461-73f0-4efd-be3b-bcc7cc86d0a2",
   "metadata": {
    "Collapsed": "false",
    "tags": []
   },
   "source": [
    "<hr>"
   ]
  },
  {
   "cell_type": "markdown",
   "id": "52d56e5e-60ad-4778-9137-80e2c3ef0e86",
   "metadata": {
    "Collapsed": "false"
   },
   "source": [
    "## <a id='account'></a>How to register for an account\n",
    "\n",
    "For the training, you will use a JupyterLab online that has been prepared for this course. You need to register for an account in order to access this training platform. If you already have an account from a previous course you attended, you can skip the registration and just use your previous username and password to login."
   ]
  },
  {
   "cell_type": "markdown",
   "id": "affe71eb-7254-4d87-80f3-37fa297a2b9f",
   "metadata": {},
   "source": [
    "1. To register for a new account, go to https://login.ltpy.adamplatform.eu/"
   ]
  },
  {
   "cell_type": "markdown",
   "id": "1e17c778-a83a-4be7-bf49-c2d0c4e7dd6a",
   "metadata": {
    "Collapsed": "false"
   },
   "source": [
    "<br>\n",
    "\n",
    "\n",
    "<div style='text-align:center;'>\n",
    "<figure><img src='../img/jupyter_ltpy_login.png' width='100%'/>\n",
    "    <figcaption><i>The login page for the LTPy training platform.</i></figcaption>\n",
    "</figure>\n",
    "</div>"
   ]
  },
  {
   "cell_type": "markdown",
   "id": "aabe0371-6949-4c82-ba0b-77021491d411",
   "metadata": {},
   "source": [
    "2. Click on the button that says \"Sign up new account\""
   ]
  },
  {
   "cell_type": "markdown",
   "id": "197913f6-be4e-40eb-9aec-e1cea9cd8b1b",
   "metadata": {
    "Collapsed": "false"
   },
   "source": [
    "<br>\n",
    "\n",
    "\n",
    "<div style='text-align:center;'>\n",
    "<figure><img src='../img/jupyter_signup_button.png' width='60%'/>\n",
    "    <figcaption><i>The signup button for a new account.</i></figcaption>\n",
    "</figure>\n",
    "</div>"
   ]
  },
  {
   "cell_type": "markdown",
   "id": "98ea704b-5c5e-4c5c-acaa-be3cdc7bf53d",
   "metadata": {},
   "source": [
    "3. Fill in the registration form and click on the \"Save\" button at the bottom."
   ]
  },
  {
   "cell_type": "markdown",
   "id": "47339a2b-bf17-459a-812e-93d278c256f3",
   "metadata": {
    "Collapsed": "false"
   },
   "source": [
    "<br>\n",
    "\n",
    "\n",
    "<div style='text-align:center;'>\n",
    "<figure><img src='../img/jupyter_new_account.png' width='100%'/>\n",
    "    <figcaption><i>The registration form for the LTPy training platform.</i></figcaption>\n",
    "</figure>\n",
    "</div>"
   ]
  },
  {
   "cell_type": "markdown",
   "id": "e1de1548-5da9-4864-9689-76da40435416",
   "metadata": {},
   "source": [
    "4. Check your email inbox for a verification email."
   ]
  },
  {
   "cell_type": "markdown",
   "id": "41110df1-d588-42e1-824d-b6740ee0d8a4",
   "metadata": {},
   "source": [
    "5. Once you have received the verification email, you can use your username and password to login at https://login.ltpy.adamplatform.eu/ by clicking on the \"Login\" button."
   ]
  },
  {
   "cell_type": "markdown",
   "id": "295430eb-4596-4632-b1a8-3638c4bca2f0",
   "metadata": {
    "Collapsed": "false"
   },
   "source": [
    "<br>\n",
    "\n",
    "\n",
    "<div style='text-align:center;'>\n",
    "<figure><img src='../img/jupyter_username.png' width='60%'/>\n",
    "    <figcaption><i>Enter your username and password to login.</i></figcaption>\n",
    "</figure>\n",
    "</div>"
   ]
  },
  {
   "cell_type": "markdown",
   "id": "cd41c54c-aa95-450f-80f7-4acb7a8644f7",
   "metadata": {
    "Collapsed": "false"
   },
   "source": [
    "<div class=\"alert alert-block alert-warning\" align=\"center\">\n",
    "<b>Recommended:</b> Sign-up for an account following the instructions above.\n",
    "</div>"
   ]
  },
  {
   "cell_type": "markdown",
   "id": "b2780a7b-79db-4afb-8288-01520e3a3838",
   "metadata": {
    "Collapsed": "false",
    "tags": []
   },
   "source": [
    "<hr>"
   ]
  },
  {
   "cell_type": "markdown",
   "id": "99325925-1d53-45d3-94a5-cfb5a256a39f",
   "metadata": {
    "Collapsed": "false"
   },
   "source": [
    "## <a id='jupyterlab'></a>Getting started with JupyterLab"
   ]
  },
  {
   "cell_type": "markdown",
   "id": "70a34dc6-16fd-4315-979e-d9c88097b116",
   "metadata": {},
   "source": [
    "This section will introduce you to JupyterLab through a series of tutorials from the official [JupyterLab documentation](https://jupyterlab.readthedocs.io/en/stable/getting_started/overview.html). The following topics are what you will need to understand in order to use the platform effectively during the training: \n",
    "\n",
    "- **The JupyterLab Interface**: [tutorial](https://jupyterlab.readthedocs.io/en/stable/user/interface.html)\n",
    "    - Take note of what each of the [menu bar](https://jupyterlab.readthedocs.io/en/stable/user/interface.html#menu-bar) items mean. You can hold your mouse over any icon and it will also explain what each button does.\n",
    "    \n",
    "<div style='text-align:center;'>\n",
    "<figure><img src='../img/jupyter_menubar.png' width='100%'/>\n",
    "    <figcaption><i>The JupyterLab menu bar.</i></figcaption>\n",
    "</figure>\n",
    "</div>\n",
    "\n",
    "- **Managing Terminals and Kernels**: [tutorial](https://jupyterlab.readthedocs.io/en/stable/user/running.html)\n",
    "    - A kernel is a process started by a server that runs your code in a programming language or environment ([Source](https://jupyterlab.readthedocs.io/en/stable/user/documents_kernels.html#:~:text=In%20the%20Jupyter,the%20kernel%20interactively.)). For example, this training course uses Python 3 kernels.  The type of kernel can be seen in the right of the menu bar. \n",
    "<br><br>\n",
    "- **Working with Files**: [tutorial](https://jupyterlab.readthedocs.io/en/stable/user/files.html)\n",
    "    - Look out for how to copy a (1) shareable link and (2) file path as this will be very useful.\n",
    "    - You will also learn how to [upload your own files](https://jupyterlab.readthedocs.io/en/stable/user/files.html#uploading-and-downloading)\n",
    "<br><br>    \n",
    "- **Working with Notebooks**: [tutorial](https://jupyterlab.readthedocs.io/en/stable/user/notebook.html)\n",
    "\n",
    "- **Exporting Notebooks**: [tutorial](https://jupyterlab.readthedocs.io/en/stable/user/export.html)\n",
    "\n",
    "- **File and Output Formats**: [tutorial](https://jupyterlab.readthedocs.io/en/stable/user/file_formats.html)\n",
    "\n",
    "\n",
    "\n",
    "\n",
    "\n",
    "\n"
   ]
  },
  {
   "cell_type": "markdown",
   "id": "1e54d3d2-9a6e-4e5d-b355-4639376117c3",
   "metadata": {
    "Collapsed": "false"
   },
   "source": [
    "<div class=\"alert alert-block alert-warning\" align=\"center\">\n",
    "<b>Recommended:</b> Go through the JupyterLab tutorials. Then, if you wish, watch the following video.\n",
    "</div>"
   ]
  },
  {
   "cell_type": "code",
   "execution_count": 4,
   "id": "56440d6b-d030-437a-b60d-d9d854ebfd27",
   "metadata": {
    "jupyter": {
     "source_hidden": true
    },
    "tags": []
   },
   "outputs": [
    {
     "data": {
      "text/html": [
       "<div align=\"center\">\n",
       "    <iframe width=\"560\" height=\"315\" src=\"https://www.youtube.com/embed/19CeVNB8fVw\" title=\"YouTube video player\" \n",
       "    frameborder=\"0\" allow=\"accelerometer; autoplay; clipboard-write; encrypted-media; gyroscope; \n",
       "    picture-in-picture; web-share\" allowfullscreen>\n",
       "    </iframe>\n",
       "</div>\n"
      ],
      "text/plain": [
       "<IPython.core.display.HTML object>"
      ]
     },
     "metadata": {},
     "output_type": "display_data"
    }
   ],
   "source": [
    "%%HTML\n",
    "<div align=\"center\">\n",
    "    <iframe width=\"560\" height=\"315\" src=\"https://www.youtube.com/embed/19CeVNB8fVw\" title=\"YouTube video player\" \n",
    "    frameborder=\"0\" allow=\"accelerometer; autoplay; clipboard-write; encrypted-media; gyroscope; \n",
    "    picture-in-picture; web-share\" allowfullscreen>\n",
    "    </iframe>\n",
    "</div>"
   ]
  },
  {
   "cell_type": "markdown",
   "id": "cfa0daa3-cb2e-420f-9a39-627f35f2ffee",
   "metadata": {
    "Collapsed": "false"
   },
   "source": [
    "<hr>"
   ]
  },
  {
   "cell_type": "markdown",
   "id": "829ac667-85a8-40ab-91f7-da1e6a56cfbc",
   "metadata": {},
   "source": [
    "<img src='../img/copernicus_logo.png' alt='Logo EU Copernicus' align='right' width='20%'><br><br><br><br>\n",
    "<p style=\"text-align:right;\">This project is licensed under <a href=\"../LICENSE\">GNU General Public License v3.0 only</a> and is developed under a Copernicus contract."
   ]
  },
  {
   "cell_type": "markdown",
   "id": "1a1a0592-1ca8-4f26-b05c-60b5d3b1acf1",
   "metadata": {},
   "source": [
    "<p style=\"text-align:right;\"> <a href='https://training.eumetsat.int'>EUMETSAT Training</a> | <a href='mailto:training@eumetsat.int'>Contact the training team</a></p>"
   ]
  }
 ],
 "metadata": {
  "kernelspec": {
   "display_name": "Python 3 (ipykernel)",
   "language": "python",
   "name": "python3"
  },
  "language_info": {
   "codemirror_mode": {
    "name": "ipython",
    "version": 3
   },
   "file_extension": ".py",
   "mimetype": "text/x-python",
   "name": "python",
   "nbconvert_exporter": "python",
   "pygments_lexer": "ipython3",
   "version": "3.8.12"
  }
 },
 "nbformat": 4,
 "nbformat_minor": 5
}
