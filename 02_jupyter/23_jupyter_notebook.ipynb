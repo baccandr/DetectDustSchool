{
 "cells": [
  {
   "cell_type": "markdown",
   "id": "f3e7d6b5-9f35-44a0-a54d-0a12f237e7ba",
   "metadata": {
    "Collapsed": "false"
   },
   "source": [
    "<img src='../img/EU-Copernicus-EUM_3Logos.png' alt='Logo EU Copernicus EUMETSAT' align='right' width='40%'></img>"
   ]
  },
  {
   "cell_type": "markdown",
   "id": "5244f1ea-37a7-4b3e-bb0f-215b1186c936",
   "metadata": {
    "Collapsed": "false"
   },
   "source": [
    "<br>"
   ]
  },
  {
   "cell_type": "markdown",
   "id": "3f5e6d05-ef2d-4112-a18c-b19f6a80bc32",
   "metadata": {},
   "source": [
    "<br>"
   ]
  },
  {
   "cell_type": "markdown",
   "id": "a1d729c1-48f0-475e-ad4f-c5aa6764e4c2",
   "metadata": {
    "Collapsed": "false"
   },
   "source": [
    "# Jupyter Notebook - Preparatory Material"
   ]
  },
  {
   "cell_type": "markdown",
   "id": "72b99b06-cf10-4fcf-bbcf-feb0e5f6febe",
   "metadata": {
    "Collapsed": "false",
    "tags": []
   },
   "source": [
    "## Introduction"
   ]
  },
  {
   "cell_type": "markdown",
   "id": "e6e4553d-821b-4dd3-be8d-cf513cfb3a70",
   "metadata": {
    "Collapsed": "false"
   },
   "source": [
    "The [Jupyter Notebook](https://jupyter-notebook.readthedocs.io/en/stable/) is a web-based application that records your data processing workflow from describing the steps, executing your code and visualising the results. It is similar to a writing a recipe or lab notebook. This notebook will introduce you to what Jupyter Notebooks can do and how you can use them effectively.\n",
    "\n",
    "You will learn about: \n",
    "* [Why Jupyter Notebooks](#why)\n",
    "* [Getting started with Jupyter Notebooks](#jupyternotebooks)\n",
    "* [Shortcuts](#shortcuts)\n",
    "* [Cell magics](#cellmagics)\n",
    "* [Sharing Jupyter Notebooks](#sharing)"
   ]
  },
  {
   "cell_type": "markdown",
   "id": "59a79381-fd32-4cc1-a684-85dd51b35fa0",
   "metadata": {
    "Collapsed": "false",
    "tags": []
   },
   "source": [
    "<hr>"
   ]
  },
  {
   "cell_type": "markdown",
   "id": "24841901-193f-4112-a323-fe6ca93fbe2a",
   "metadata": {
    "tags": []
   },
   "source": [
    "## <a id='why'></a>Why Jupyter Notebooks?"
   ]
  },
  {
   "cell_type": "markdown",
   "id": "1b13bca2-9548-4e2d-aa14-79706ef1d312",
   "metadata": {},
   "source": [
    "Here are a few reasons why this training course uses Jupyter Notebooks:\n",
    "\n",
    "* Started with Python support, now **support of over 40 programming languages, including Python, R, Julia, ...**\n",
    "* Notebooks can **easily be shared via GitHub, NBViewer, etc.**\n",
    "* **Code, data and visualisations are combined in one place**\n",
    "* A great tool for **teaching**\n",
    "* **JupyterHub and JupyterLab allows you to access an environment ready to code**"
   ]
  },
  {
   "cell_type": "markdown",
   "id": "46371f5e-6da3-46c3-b8bf-6bda39bd6e89",
   "metadata": {
    "Collapsed": "false"
   },
   "source": [
    "<hr>"
   ]
  },
  {
   "cell_type": "markdown",
   "id": "8b7b618f-c7d0-467c-9219-23aa635bd2fe",
   "metadata": {
    "Collapsed": "false"
   },
   "source": [
    "## <a id='jupyternotebooks'></a>Getting started with Jupyter Notebooks"
   ]
  },
  {
   "cell_type": "markdown",
   "id": "02df85a8-71c4-4284-82c5-c05fa3c9a4bc",
   "metadata": {
    "tags": []
   },
   "source": [
    "This section will introduce you to Jupyter Notebooks through a series of tutorials from the official [Jupyter Notebook documentation](https://jupyter-notebook.readthedocs.io/en/stable/notebook.html). The following topics are what you will need to understand for the training: \n",
    "\n",
    "- **The Jupyter Notebook Interface**: [tutorial](https://jupyter-notebook.readthedocs.io/en/stable/notebook.html#notebook-user-interface)\n",
    "- **Structure of a Notebook**: [tutorial](https://jupyter-notebook.readthedocs.io/en/stable/notebook.html#structure-of-a-notebook-document)\n",
    "    - Take note of the types of cells. You will mostly be using [Code cells](https://jupyter-notebook.readthedocs.io/en/stable/notebook.html#code-cells) and [Markdown cells](https://jupyter-notebook.readthedocs.io/en/stable/notebook.html#markdown-cells).\n",
    "    - Markdown is a language that enables you to format text and headers. Learn more about [Markdown](https://www.markdownguide.org/basic-syntax/) here.\n",
    "    \n",
    "During the training, you will be working with Jupyter Notebooks in the [JupyterLab](https://jupyterlab.readthedocs.io/en/stable/index.html) environment. If you have not already done so, do check out the following JupyterLab tutorials:\n",
    "\n",
    "- **Working with Notebooks**: [tutorial](https://jupyterlab.readthedocs.io/en/stable/user/notebook.html)\n",
    "    - To **add a new cell**, you can click on the `+` button in the JupyterLab menu bar, or you can use the keyboard shortcut `A` to insert a cell above the current one, or `B` to insert a cell below the current one. \n",
    "    - To **execute or run a cell**, you can either click on the <img src='../img/jupyter_menubar_run.png' width='25px'> button in the JupyterLab menu bar or you can use the keyboard shortcut `Shift + Enter`.\n",
    "    - To **edit a cell**, double-click on it, or use the keyboard shortcut `Enter`.\n",
    "    - To **stop editing**, run the cell.\n",
    "    \n",
    "<div style='text-align:center;'>\n",
    "<figure><img src='../img/jupyter_menubar.png' width='100%'/>\n",
    "    <figcaption><i>The JupyterLab menu bar.</i></figcaption>\n",
    "</figure>\n",
    "</div>\n",
    "\n",
    "- **Exporting Notebooks**: [tutorial](https://jupyterlab.readthedocs.io/en/stable/user/export.html)\n",
    "\n",
    "\n",
    "\n",
    "\n",
    "\n"
   ]
  },
  {
   "cell_type": "markdown",
   "id": "8a1d62d8-c724-4d60-89d7-9b0e728f689e",
   "metadata": {
    "Collapsed": "false"
   },
   "source": [
    "<div class=\"alert alert-block alert-warning\" align=\"center\">\n",
    "<b>Recommended:</b> Go through the Jupyter Notebook tutorials.\n",
    "</div>"
   ]
  },
  {
   "cell_type": "markdown",
   "id": "08b89d1a-a294-4ffd-854b-093bb53fe6c8",
   "metadata": {
    "Collapsed": "false"
   },
   "source": [
    "<hr>"
   ]
  },
  {
   "cell_type": "markdown",
   "id": "57db9951-bf9b-43d5-8930-23c3da9e2c92",
   "metadata": {
    "Collapsed": "false"
   },
   "source": [
    "## <a id='shortcuts'></a>Shortcuts"
   ]
  },
  {
   "cell_type": "markdown",
   "id": "7d68482b-0aff-415b-a9db-001272f76dd7",
   "metadata": {
    "Collapsed": "false"
   },
   "source": [
    "You can get an overview of the keyboard shortcuts by hitting `H` or go to `Help/Keyboard shortcuts`"
   ]
  },
  {
   "cell_type": "markdown",
   "id": "ad99079d-a4fe-44ce-b6f5-3540e7c58f3e",
   "metadata": {
    "Collapsed": "false"
   },
   "source": [
    "#### Most useful shortcuts"
   ]
  },
  {
   "cell_type": "markdown",
   "id": "f0deb3cd-663c-4831-b63e-c0fbe2f9e8b3",
   "metadata": {
    "Collapsed": "false"
   },
   "source": [
    "* `Esc` - switch to command mode\n",
    "* `B` - insert below\n",
    "* `A` - insert above\n",
    "* `M` - Change current cell to Markdown\n",
    "* `Y` - Change current cell to code\n",
    "* `DD` - Delete cell\n",
    "* `Enter` - go back to edit mode\n",
    "* `Esc + F` - Find and replace on your code\n",
    "* `Shift + Enter` - Run a cell\n",
    "* `Shift + Down / Upwards` - Select multiple cells\n",
    "* `Shift + M` - Merge multiple cells"
   ]
  },
  {
   "cell_type": "markdown",
   "id": "76c1d812-5c6e-4a4a-9bb7-92f1b841bab5",
   "metadata": {
    "Collapsed": "false"
   },
   "source": [
    "<hr>"
   ]
  },
  {
   "cell_type": "markdown",
   "id": "ed3b58db-3929-475d-a277-fce66ea55f00",
   "metadata": {
    "Collapsed": "false"
   },
   "source": [
    "## <a id='cellmagics'></a>Cell magics"
   ]
  },
  {
   "cell_type": "markdown",
   "id": "4335c196-929a-47ca-babd-28b26c0a889c",
   "metadata": {
    "Collapsed": "false"
   },
   "source": [
    "Magic commands can make coding a lot easier, as you only have one command instead of an entire function or multiple lines of code.<br>\n",
    "> Go to an [extensive overview of magic commands]()"
   ]
  },
  {
   "cell_type": "markdown",
   "id": "b3eb5c9b-783b-4c56-9bd4-ec2894fffd93",
   "metadata": {
    "Collapsed": "false"
   },
   "source": [
    "### Some of the handy ones"
   ]
  },
  {
   "cell_type": "markdown",
   "id": "0c8da3be-89cd-4dd3-ba26-9a071d745916",
   "metadata": {
    "Collapsed": "false"
   },
   "source": [
    "**Overview of available magic commands**"
   ]
  },
  {
   "cell_type": "code",
   "execution_count": 2,
   "id": "6cd49a46-f847-4f20-841e-882204adfb2e",
   "metadata": {
    "Collapsed": "false"
   },
   "outputs": [
    {
     "data": {
      "application/json": {
       "cell": {
        "!": "OSMagics",
        "HTML": "Other",
        "SVG": "Other",
        "bash": "Other",
        "capture": "ExecutionMagics",
        "debug": "ExecutionMagics",
        "file": "Other",
        "html": "DisplayMagics",
        "javascript": "DisplayMagics",
        "js": "DisplayMagics",
        "latex": "DisplayMagics",
        "markdown": "DisplayMagics",
        "perl": "Other",
        "prun": "ExecutionMagics",
        "pypy": "Other",
        "python": "Other",
        "python2": "Other",
        "python3": "Other",
        "ruby": "Other",
        "script": "ScriptMagics",
        "sh": "Other",
        "svg": "DisplayMagics",
        "sx": "OSMagics",
        "system": "OSMagics",
        "time": "ExecutionMagics",
        "timeit": "ExecutionMagics",
        "writefile": "OSMagics"
       },
       "line": {
        "alias": "OSMagics",
        "alias_magic": "BasicMagics",
        "autoawait": "AsyncMagics",
        "autocall": "AutoMagics",
        "automagic": "AutoMagics",
        "autosave": "KernelMagics",
        "bookmark": "OSMagics",
        "cat": "Other",
        "cd": "OSMagics",
        "clear": "KernelMagics",
        "colors": "BasicMagics",
        "conda": "PackagingMagics",
        "config": "ConfigMagics",
        "connect_info": "KernelMagics",
        "cp": "Other",
        "debug": "ExecutionMagics",
        "dhist": "OSMagics",
        "dirs": "OSMagics",
        "doctest_mode": "BasicMagics",
        "ed": "Other",
        "edit": "KernelMagics",
        "env": "OSMagics",
        "gui": "BasicMagics",
        "hist": "Other",
        "history": "HistoryMagics",
        "killbgscripts": "ScriptMagics",
        "ldir": "Other",
        "less": "KernelMagics",
        "lf": "Other",
        "lk": "Other",
        "ll": "Other",
        "load": "CodeMagics",
        "load_ext": "ExtensionMagics",
        "loadpy": "CodeMagics",
        "logoff": "LoggingMagics",
        "logon": "LoggingMagics",
        "logstart": "LoggingMagics",
        "logstate": "LoggingMagics",
        "logstop": "LoggingMagics",
        "ls": "Other",
        "lsmagic": "BasicMagics",
        "lx": "Other",
        "macro": "ExecutionMagics",
        "magic": "BasicMagics",
        "man": "KernelMagics",
        "matplotlib": "PylabMagics",
        "mkdir": "Other",
        "more": "KernelMagics",
        "mv": "Other",
        "notebook": "BasicMagics",
        "page": "BasicMagics",
        "pastebin": "CodeMagics",
        "pdb": "ExecutionMagics",
        "pdef": "NamespaceMagics",
        "pdoc": "NamespaceMagics",
        "pfile": "NamespaceMagics",
        "pinfo": "NamespaceMagics",
        "pinfo2": "NamespaceMagics",
        "pip": "PackagingMagics",
        "popd": "OSMagics",
        "pprint": "BasicMagics",
        "precision": "BasicMagics",
        "prun": "ExecutionMagics",
        "psearch": "NamespaceMagics",
        "psource": "NamespaceMagics",
        "pushd": "OSMagics",
        "pwd": "OSMagics",
        "pycat": "OSMagics",
        "pylab": "PylabMagics",
        "qtconsole": "KernelMagics",
        "quickref": "BasicMagics",
        "recall": "HistoryMagics",
        "rehashx": "OSMagics",
        "reload_ext": "ExtensionMagics",
        "rep": "Other",
        "rerun": "HistoryMagics",
        "reset": "NamespaceMagics",
        "reset_selective": "NamespaceMagics",
        "rm": "Other",
        "rmdir": "Other",
        "run": "ExecutionMagics",
        "save": "CodeMagics",
        "sc": "OSMagics",
        "set_env": "OSMagics",
        "store": "StoreMagics",
        "sx": "OSMagics",
        "system": "OSMagics",
        "tb": "ExecutionMagics",
        "time": "ExecutionMagics",
        "timeit": "ExecutionMagics",
        "unalias": "OSMagics",
        "unload_ext": "ExtensionMagics",
        "who": "NamespaceMagics",
        "who_ls": "NamespaceMagics",
        "whos": "NamespaceMagics",
        "xdel": "NamespaceMagics",
        "xmode": "BasicMagics"
       }
      },
      "text/plain": [
       "Available line magics:\n",
       "%alias  %alias_magic  %autoawait  %autocall  %automagic  %autosave  %bookmark  %cat  %cd  %clear  %colors  %conda  %config  %connect_info  %cp  %debug  %dhist  %dirs  %doctest_mode  %ed  %edit  %env  %gui  %hist  %history  %killbgscripts  %ldir  %less  %lf  %lk  %ll  %load  %load_ext  %loadpy  %logoff  %logon  %logstart  %logstate  %logstop  %ls  %lsmagic  %lx  %macro  %magic  %man  %matplotlib  %mkdir  %more  %mv  %notebook  %page  %pastebin  %pdb  %pdef  %pdoc  %pfile  %pinfo  %pinfo2  %pip  %popd  %pprint  %precision  %prun  %psearch  %psource  %pushd  %pwd  %pycat  %pylab  %qtconsole  %quickref  %recall  %rehashx  %reload_ext  %rep  %rerun  %reset  %reset_selective  %rm  %rmdir  %run  %save  %sc  %set_env  %store  %sx  %system  %tb  %time  %timeit  %unalias  %unload_ext  %who  %who_ls  %whos  %xdel  %xmode\n",
       "\n",
       "Available cell magics:\n",
       "%%!  %%HTML  %%SVG  %%bash  %%capture  %%debug  %%file  %%html  %%javascript  %%js  %%latex  %%markdown  %%perl  %%prun  %%pypy  %%python  %%python2  %%python3  %%ruby  %%script  %%sh  %%svg  %%sx  %%system  %%time  %%timeit  %%writefile\n",
       "\n",
       "Automagic is ON, % prefix IS NOT needed for line magics."
      ]
     },
     "execution_count": 2,
     "metadata": {},
     "output_type": "execute_result"
    }
   ],
   "source": [
    "%lsmagic"
   ]
  },
  {
   "cell_type": "markdown",
   "id": "4996c04e-9ea4-4f3b-83d7-439469453a04",
   "metadata": {
    "Collapsed": "false"
   },
   "source": [
    "**See and set environment variables**"
   ]
  },
  {
   "cell_type": "code",
   "execution_count": null,
   "id": "071dc018-729e-4cdc-b4cc-47dcbcd45891",
   "metadata": {
    "Collapsed": "false"
   },
   "outputs": [],
   "source": [
    "%env"
   ]
  },
  {
   "cell_type": "markdown",
   "id": "2b5b0c7e-c334-468b-bbc4-90b2152ad233",
   "metadata": {
    "Collapsed": "false"
   },
   "source": [
    "**Install and list libraries**"
   ]
  },
  {
   "cell_type": "code",
   "execution_count": null,
   "id": "76b09acc-d80b-4e31-8fe5-f0716ee123ca",
   "metadata": {
    "Collapsed": "false"
   },
   "outputs": [],
   "source": [
    "!pip install numpy\n",
    "!pip list | grep pandas"
   ]
  },
  {
   "cell_type": "markdown",
   "id": "7cbb1b07-d9b7-4590-98b5-96e242202d62",
   "metadata": {
    "Collapsed": "false"
   },
   "source": [
    "**Write cell content to a Python file**"
   ]
  },
  {
   "cell_type": "code",
   "execution_count": null,
   "id": "e8e57c4a-bb47-4ca8-9e89-f3ad080938a3",
   "metadata": {
    "Collapsed": "false"
   },
   "outputs": [],
   "source": [
    "%%writefile hello_world.py\n",
    "\n",
    "print('Hello World')"
   ]
  },
  {
   "cell_type": "markdown",
   "id": "8d5ebd84-8a31-40d0-bb9f-48e2c2032558",
   "metadata": {
    "Collapsed": "false"
   },
   "source": [
    "**Load a Python file**"
   ]
  },
  {
   "cell_type": "code",
   "execution_count": null,
   "id": "adf95247-951e-49cc-96b7-74affaef2922",
   "metadata": {
    "Collapsed": "false"
   },
   "outputs": [],
   "source": [
    "%pycat hello_world.py"
   ]
  },
  {
   "cell_type": "markdown",
   "id": "772d4633-6153-4e22-832e-17047863ddaf",
   "metadata": {
    "Collapsed": "false"
   },
   "source": [
    "**Get the time of cell execution**"
   ]
  },
  {
   "cell_type": "code",
   "execution_count": null,
   "id": "9715fb7e-b466-498f-843b-d70ee512add2",
   "metadata": {
    "Collapsed": "false"
   },
   "outputs": [],
   "source": [
    "%%time\n",
    "\n",
    "tmpList = []\n",
    "for i in range(100):\n",
    "    tmpList.append(i+i)\n",
    "\n",
    "print(tmpList)"
   ]
  },
  {
   "cell_type": "markdown",
   "id": "89efeeef-e4a6-4330-b3fb-1f1add71c4df",
   "metadata": {
    "Collapsed": "false"
   },
   "source": [
    "**Show matplotlib plots inline**"
   ]
  },
  {
   "cell_type": "code",
   "execution_count": null,
   "id": "999042c1-4189-4858-b237-9cedc18da307",
   "metadata": {
    "Collapsed": "false",
    "tags": []
   },
   "outputs": [],
   "source": [
    "%matplotlib inline"
   ]
  },
  {
   "cell_type": "markdown",
   "id": "4b61d6c6-b276-4f3b-952c-6c3f769ecde6",
   "metadata": {
    "Collapsed": "false"
   },
   "source": [
    "<hr>"
   ]
  },
  {
   "cell_type": "markdown",
   "id": "2f372f4e-b188-47ae-bf4d-81b40db28d3f",
   "metadata": {},
   "source": [
    "## <a id='sharing'></a>Sharing Jupyter Notebooks\n",
    "\n",
    "There are a number of ways that you can share Jupyter Notebooks with others. This enables you to share your workflows easily and collaborate with others."
   ]
  },
  {
   "cell_type": "markdown",
   "id": "841bcac2-7a9d-4b82-b520-9e010576cd98",
   "metadata": {},
   "source": [
    "### Sharing static Jupyter Notebooks"
   ]
  },
  {
   "cell_type": "markdown",
   "id": "1da98dd0-db5d-46c8-9139-073d76dcdd78",
   "metadata": {},
   "source": [
    "* [nbviewer](https://nbviewer.jupyter.org/) - A simple way to share Jupyter Notebooks. You can simply paste the GitHub location of your Jupyter notebook there and it is nicely rendered.\n",
    "* [GitHub](https://github.com/) - GitHub offers an internal rendering of Jupyter Notebooks. There are some limitations and time delays of the proper rendering. Thus, we would suggest to use `nbviewer` to share nicely rendered Jupyter Notebooks."
   ]
  },
  {
   "cell_type": "markdown",
   "id": "95cce31a-5f7a-4216-b984-4acc149e5024",
   "metadata": {},
   "source": [
    "### Reproducible Jupyter Notebooks"
   ]
  },
  {
   "cell_type": "markdown",
   "id": "735f0185-3ffb-4af5-8343-98c9a0f016fb",
   "metadata": {},
   "source": [
    "<img src=\"../img/mybinder_logo.png\" align=\"left\" width=\"30%\"></img>\n",
    "[Binder](https://mybinder.org/) allows you to open notebooks hosted on a Git repo in an executable environment, making the code immediately reproducible by anyone, anywhere.\n",
    "\n",
    "Binder builds a Docker image of the repo where the notebooks are hosted.\n"
   ]
  },
  {
   "cell_type": "markdown",
   "id": "303796ca-04cc-4a66-a77a-f74d91a8b313",
   "metadata": {
    "Collapsed": "false"
   },
   "source": [
    "<hr>"
   ]
  },
  {
   "cell_type": "markdown",
   "id": "882797ef-ed42-432d-8617-0eedf74d9f47",
   "metadata": {},
   "source": [
    "<img src='../img/copernicus_logo.png' alt='Logo EU Copernicus' align='right' width='20%'><br><br><br><br>\n",
    "<p style=\"text-align:right;\">This project is licensed under <a href=\"../LICENSE\">GNU General Public License v3.0 only</a> and is developed under a Copernicus contract."
   ]
  },
  {
   "cell_type": "markdown",
   "id": "4101ea20-fb61-4555-9a79-c523def814bb",
   "metadata": {},
   "source": [
    "<p style=\"text-align:right;\"> <a href='https://training.eumetsat.int'>EUMETSAT Training</a> | <a href='mailto:training@eumetsat.int'>Contact the training team</a></p>"
   ]
  }
 ],
 "metadata": {
  "kernelspec": {
   "display_name": "Python 3 (ipykernel)",
   "language": "python",
   "name": "python3"
  },
  "language_info": {
   "codemirror_mode": {
    "name": "ipython",
    "version": 3
   },
   "file_extension": ".py",
   "mimetype": "text/x-python",
   "name": "python",
   "nbconvert_exporter": "python",
   "pygments_lexer": "ipython3",
   "version": "3.8.12"
  }
 },
 "nbformat": 4,
 "nbformat_minor": 5
}
