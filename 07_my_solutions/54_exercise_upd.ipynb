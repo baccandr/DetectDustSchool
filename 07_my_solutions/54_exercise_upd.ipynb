{
 "cells": [
  {
   "cell_type": "markdown",
   "metadata": {},
   "source": [
    "<img src='../img/dust_banner.png' alt='Training school and workshop on dust' align='center' width='100%'></img>\n",
    "\n",
    "<br>"
   ]
  },
  {
   "cell_type": "markdown",
   "metadata": {
    "Collapsed": "false"
   },
   "source": [
    "# 04 - Practical exercise - Model I"
   ]
  },
  {
   "cell_type": "markdown",
   "metadata": {},
   "source": [
    "### About"
   ]
  },
  {
   "cell_type": "markdown",
   "metadata": {},
   "source": [
    "> In [Practical exercise 2](../05_practicals/52_exercise.ipynb) we used satellite data to look at global seasonal cycles. Today, we will once again broaden our perspective and use model data to analyse the annual cycle and seasonality of dust and aerosols at a specific location.\n",
    "\n",
    "\n"
   ]
  },
  {
   "cell_type": "markdown",
   "metadata": {},
   "source": [
    "### Tasks"
   ]
  },
  {
   "cell_type": "markdown",
   "metadata": {
    "jp-MarkdownHeadingCollapsed": true,
    "tags": []
   },
   "source": [
    "#### 1. Brainstorm\n",
    "  * What data can be used for analysing the annual cycle and patterns of dust?\n",
    "  * What aggregation level is required?\n",
    "  * What are some differences between forecast and reanalysis model data? \n",
    "\n",
    "#### 2. Download and plot time-series of AERONET data for *Granada, Spain* in 2021\n",
    "  * **Hint** \n",
    "    * [AERONET - Example notebook](../04_data_workflows/42_groundbased_observations/421_AERONET.ipynb)\n",
    "    * you can select daily aggregates of the station observations with setting `AVG=20`\n",
    "    * For the AERONET plot, you just need to plot the `AOD_500nm` data and the `500-870nm Angstrom exponent`.\n",
    "    * Optional: You can also add a horizontal line that shows the cut-off value where the Angstrom Exponent <0.6 indicates dust.\n",
    "  * **Interpret the results:**\n",
    "    * Have there been other times in 2021 with increased AOD values?\n",
    "    * If yes, how could you find out if the increase in AOD is caused by dust? Try to find out by visualizing the AOD time-series together with another parameter from the AERONET data.\n",
    "    * [MSG SEVIRI Dust RGB](https://sds-was.aemet.es/forecast-products/dust-observations/msg-2013-eumetsat) and [MODIS RGB](https://worldview.earthdata.nasa.gov/) quick looks might be helpful to get a more complete picture of other events that might have happened in 2021.\n",
    "\n",
    "\n",
    "#### 3. Download CAMS global reanalysis (EAC4) and select 2021 time-series for *Granada, Spain*\n",
    "  * **Hint**\n",
    "    * [CAMS global reanalysis - Example notebook](../04_data_workflows/43_model_data/432_CAMS_global_reanalysis_duaod_load_browse.ipynb)\n",
    "    * [Data access](https://ads.atmosphere.copernicus.eu/cdsapp#!/dataset/cams-global-reanalysis-eac4?tab=form) with the following specifications:\n",
    "    > Variable on single levels: `Dust aerosol optical depth at 550 nm` <br>\n",
    "    > Date: `Start=2021-01-01`, `End=2021-12-31` <br>\n",
    "    > Time: `[00:00, 03:00, 06:00, 09:00, 12:00, 15:00, 18:00, 21:00]` <br>\n",
    "    > Restricted area: `N: 71, W: -22, E: 43, S: 28` <br>\n",
    "    >Format: `netCDF` <br>\n",
    "    * With the xarray function `sel()` and keyword argument `method='nearest'` you can select data based on coordinate information\n",
    "    * We also recommend you to transform your xarray.DataArray into a pandas.DataFrame with the function `to_dataframe()`"
   ]
  },
  {
   "cell_type": "markdown",
   "metadata": {
    "tags": []
   },
   "source": [
    "#### 4. Resample AERONET observations and CAMS reanalysis (EAC4) time-series for *Granada, Spain* in 2021 and plot monthly aggregates in one plot\n",
    "  * Load the time-series of daily aggregated AERONET observations and CAMS reanalysis (EAC4) for Granada, Spain in 2021, resample the values to monthly averages and plot the monthly averaged values together in one plot\n",
    "  * **Hint** \n",
    "    * Make use of AERONET `index` and `time` columns to create a `DateTimeIndex` in order to resample the observations to a monthly temporal resolution\n",
    "    * you have to combine the two columns `index` and `time` as one string variable\n",
    "    * you can use the pandas function `to_datetime()` to create a `DateTimeIndex` and the function `resample().mean()` to resample and average the time-series to a given temporal resolution \n",
    "  * **Question to reflect on**\n",
    "    * How many row entries does the resampled data frame have?\n",
    "    \n",
    "#### 5. BONUS: Extract a time-series from the monthly gridded Dust AOD C3S aerosol properties data for *Granada, Spain* from METOP-C and add it to the plot. \n",
    "  * Use the same download specifications or the same data in Practical 2\n",
    "\n",
    "#### 6. Interpret the plotting results\n",
    "  * Do the monthly patterns of AERONET observations and CAMS reanalysis look similar?\n",
    "  * How do they differ?"
   ]
  },
  {
   "cell_type": "markdown",
   "metadata": {
    "Collapsed": "false",
    "tags": []
   },
   "source": [
    "### Module outline\n",
    "* [1 - Select latitude / longitude values for Granada, Spain](#select_lat_lon)\n",
    "* [2 - Download and plot time-series of AERONET data](#download_aeronet)\n",
    "* [3 - Download CAMS global reanalysis (EAC4) and select 2021 time-series for Granada, Spain](#download_cams_reanalysis)\n",
    "* [4 - Resample AERONET and CAMS reanalysis (EAC4) time-series for Granada, Spain in 2021 and plot monthly aggregates in one plot](#aeronet_cams_ts)\n",
    "* [5 - BONUS: Extract a time-series from the monthly gridded C3S aerosol properties data for Granada, Spain and add it to the plot](#add_iasi_ts)"
   ]
  },
  {
   "cell_type": "markdown",
   "metadata": {},
   "source": [
    "<hr>"
   ]
  },
  {
   "cell_type": "markdown",
   "metadata": {
    "Collapsed": "false"
   },
   "source": [
    "##### Load required libraries"
   ]
  },
  {
   "cell_type": "code",
   "execution_count": null,
   "metadata": {
    "Collapsed": "false",
    "tags": []
   },
   "outputs": [],
   "source": [
    "import xarray as xr\n",
    "import pandas as pd\n",
    "import wget\n",
    "from datetime import datetime\n",
    "\n",
    "from IPython.display import HTML\n",
    "\n",
    "import matplotlib.pyplot as pl\n",
    "import matplotlib.colors\n",
    "from matplotlib.cm import get_cmap\n",
    "from matplotlib import animation\n",
    "from matplotlib.axes import Axes\n",
    "\n",
    "import cartopy.crs as ccrs\n",
    "from cartopy.mpl.gridliner import LONGITUDE_FORMATTER, LATITUDE_FORMATTER\n",
    "import cartopy.feature as cfeature\n",
    "from cartopy.mpl.geoaxes import GeoAxes\n",
    "GeoAxes._pcolormesh_patched = Axes.pcolormesh\n",
    "\n",
    "import warnings\n",
    "warnings.simplefilter(action = \"ignore\", category = RuntimeWarning)"
   ]
  },
  {
   "cell_type": "markdown",
   "metadata": {},
   "source": [
    "##### Load helper functions"
   ]
  },
  {
   "cell_type": "code",
   "execution_count": null,
   "metadata": {},
   "outputs": [],
   "source": [
    "%run ../functions.ipynb"
   ]
  },
  {
   "cell_type": "markdown",
   "metadata": {
    "Collapsed": "false"
   },
   "source": [
    "<hr>"
   ]
  },
  {
   "cell_type": "markdown",
   "metadata": {},
   "source": [
    "<br>"
   ]
  },
  {
   "cell_type": "markdown",
   "metadata": {
    "tags": []
   },
   "source": [
    "### <a id='select_lat_lon'></a>1. Select latitude / longitude values for `Granada`"
   ]
  },
  {
   "cell_type": "markdown",
   "metadata": {},
   "source": [
    "You can see an overview of all available AERONET Site Names [here](https://aeronet.gsfc.nasa.gov/cgi-bin/draw_map_display_aod_v3?long1=-180&long2=180&lat1=-90&lat2=90&multiplier=2&what_map=4&nachal=1&formatter=0&level=3&place_code=10&place_limit=0)."
   ]
  },
  {
   "cell_type": "code",
   "execution_count": null,
   "metadata": {},
   "outputs": [],
   "source": [
    "lat = \n",
    "lon = "
   ]
  },
  {
   "cell_type": "markdown",
   "metadata": {},
   "source": [
    "<br>"
   ]
  },
  {
   "cell_type": "markdown",
   "metadata": {},
   "source": [
    "### <a id='download_aeronet'></a>2. Download and plot time-series of AERONET data"
   ]
  },
  {
   "cell_type": "code",
   "execution_count": null,
   "metadata": {
    "tags": []
   },
   "outputs": [],
   "source": []
  },
  {
   "cell_type": "markdown",
   "metadata": {
    "tags": []
   },
   "source": [
    "<br>"
   ]
  },
  {
   "cell_type": "markdown",
   "metadata": {},
   "source": [
    "### <a id='download_cams_reanalysis'></a> 3. Download CAMS global reanalysis (EAC4) and select 2021 time-series for Granada, Spain"
   ]
  },
  {
   "cell_type": "code",
   "execution_count": null,
   "metadata": {
    "tags": []
   },
   "outputs": [],
   "source": []
  },
  {
   "cell_type": "markdown",
   "metadata": {
    "tags": []
   },
   "source": [
    "<br>"
   ]
  },
  {
   "cell_type": "markdown",
   "metadata": {
    "tags": []
   },
   "source": [
    "### <a id='aeronet_cams_ts'></a>4. Resample AERONET and CAMS reanalysis (EAC4) time-series for Granada, Spain in 2021 and plot monthly aggregates"
   ]
  },
  {
   "cell_type": "code",
   "execution_count": null,
   "metadata": {},
   "outputs": [],
   "source": []
  },
  {
   "cell_type": "markdown",
   "metadata": {
    "tags": []
   },
   "source": [
    "<br>"
   ]
  },
  {
   "cell_type": "markdown",
   "metadata": {
    "tags": []
   },
   "source": [
    "### <a id='add_iasi_ts'></a> 5. BONUS: Extract a time-series from the Dust AOD monthly gridded C3S aerosol properties data for *Granada, Spain* and add it to the plot.   "
   ]
  },
  {
   "cell_type": "code",
   "execution_count": null,
   "metadata": {},
   "outputs": [],
   "source": []
  },
  {
   "cell_type": "markdown",
   "metadata": {},
   "source": [
    "<br>"
   ]
  },
  {
   "cell_type": "markdown",
   "metadata": {},
   "source": [
    "<hr>"
   ]
  },
  {
   "cell_type": "markdown",
   "metadata": {},
   "source": [
    "<img src='../img/copernicus_logo.png' alt='Logo EU Copernicus' align='left' width='20%'><br><br><br><br>\n",
    "This project is licensed under <a href=\"../../LICENSE\">GNU General Public License v3.0 only</a> and is developed under a Copernicus contract.\n",
    "\n",
    "<p style=\"text-align:right;\"> <a href='https://training.eumetsat.int'>EUMETSAT Training</a> | <a href='mailto:training@eumetsat.int'>Contact the training team</a></p>"
   ]
  }
 ],
 "metadata": {
  "kernelspec": {
   "display_name": "Python 3 (ipykernel)",
   "language": "python",
   "name": "python3"
  },
  "language_info": {
   "codemirror_mode": {
    "name": "ipython",
    "version": 3
   },
   "file_extension": ".py",
   "mimetype": "text/x-python",
   "name": "python",
   "nbconvert_exporter": "python",
   "pygments_lexer": "ipython3",
   "version": "3.8.12"
  }
 },
 "nbformat": 4,
 "nbformat_minor": 4
}
