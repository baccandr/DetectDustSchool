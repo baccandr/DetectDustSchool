{
 "cells": [
  {
   "cell_type": "markdown",
   "metadata": {},
   "source": [
    "<img src='../img/dust_banner.png' alt='Training school and workshop on dust' align='center' width='100%'></img>\n",
    "\n",
    "<br>"
   ]
  },
  {
   "cell_type": "markdown",
   "metadata": {
    "Collapsed": "false"
   },
   "source": [
    "# 02 - Practical exercise - Satellite II"
   ]
  },
  {
   "cell_type": "markdown",
   "metadata": {
    "tags": []
   },
   "source": [
    "### About"
   ]
  },
  {
   "cell_type": "markdown",
   "metadata": {},
   "source": [
    "> Satellite data is also useful for understanding seasonal cycles for dust monitoring. In this session, we will use monthly IASI Level 3 Dust Aerosol Optical Depth (AOD) and Dust Aerosol Layer Height (ALH) data from January to December 2021 to create global maps of dust activity. One year is used as an illustration for how to get and use this data.\n"
   ]
  },
  {
   "cell_type": "markdown",
   "metadata": {},
   "source": [
    "### Tasks"
   ]
  },
  {
   "cell_type": "markdown",
   "metadata": {
    "tags": []
   },
   "source": [
    "#### 1. Brainstorm\n",
    "  * What is the difference between Level 2 and Level 3 data?\n",
    "  * What are some advantages and limitations of using satellite data to monitor dust activity?\n",
    "\n",
    "#### 2. Download and open `Dust aerosol optical depth` data from [C3S Aerosol properties gridded data](https://cds.climate.copernicus.eu/cdsapp#!/dataset/satellite-aerosol-properties?tab=overview) for the IASI instrument on MetOp-C.\n",
    "  * Download the C3S Aerosol properties gridded data from January to December 2021, with the following specifications:\n",
    "    > Time aggregation: `Monthly average` <br>\n",
    "    > Variable on single levels: `Dust aerosol optical depth` <br>\n",
    "    > Sensor on satellite: `IASI on METOPC` <br> \n",
    "    > Algorithm: `LMD (Laboratoire de Météorologie Dynamique)` <br>\n",
    "    > Year: `2021` <br>\n",
    "    > Month: Click on `Select all` <br>\n",
    "    > Version: select `IASI` and then `v2.2` <br>\n",
    "    > Orbit: `Descending` <br>\n",
    "    > Format: `Zip file (.zip)` <br>\n",
    "  * **Hint** \n",
    "    * [C3S Aerosol properties gridded data - Example notebook](../04_data_workflows/41_satellite_observations/418_C3S_aerosol_properties_L3_load_browse.ipynb)\n",
    "    * [Data access](https://cds.climate.copernicus.eu/cdsapp#!/dataset/satellite-aerosol-properties?tab=form)\n",
    "\n",
    "#### 3. Create an animation showing global maps of Dust AOD.\n",
    "\n",
    "#### 4. Load and browse `Dust aerosol layer height` data from [C3S Aerosol properties gridded data](https://cds.climate.copernicus.eu/cdsapp#!/dataset/satellite-aerosol-properties?tab=overview) for the IASI instrument on MetOp-C.\n",
    "  * The variable of interest is `Mean_dust_layer_altitude`\n",
    "\n",
    "#### 5. Create an animation showing global maps of Dust aerosol layer height.\n",
    "\n",
    "#### 6. [BONUS] Download `Dust aerosol optical depth` data from [C3S Aerosol properties gridded data](https://cds.climate.copernicus.eu/cdsapp#!/dataset/satellite-aerosol-properties?tab=overview) for the IASI instrument on MetOp-C produced with a different algorithm and compare the differences.\n",
    "\n",
    "#### 7. Interpret the results\n",
    "  * What seasonal cycles do you see in the global maps of Dust AOD over the year?\n",
    "  * What seasonal cycles do you see in the global maps of Dust aerosol layer height over the year?"
   ]
  },
  {
   "cell_type": "markdown",
   "metadata": {},
   "source": [
    "<br>"
   ]
  },
  {
   "cell_type": "markdown",
   "metadata": {
    "Collapsed": "false"
   },
   "source": [
    "### Module outline\n",
    "* [1 - Download and open the Dust AOD C3S Aerosol properties gridded data for the IASI instrument on MetOp-C.](#c3s_aod)\n",
    "* [2 - Create an animation showing global maps of Dust AOD](#animate_aod)\n",
    "* [3 - Load and browse the Dust aerosol layer height C3S Aerosol properties gridded data for the IASI instrument on MetOp-C.](#c3s_alh)\n",
    "* [4 - Create an animation showing global maps of Dust aerosol layer height](#animate_alh)\n",
    "* [5 - BONUS: Download Dust AOD data from C3S Aerosol properties gridded data for the IASI instrument on MetOp-C produced with a different algorithm and compare the differences.](#other)"
   ]
  },
  {
   "cell_type": "markdown",
   "metadata": {},
   "source": [
    "<hr>"
   ]
  },
  {
   "cell_type": "markdown",
   "metadata": {
    "Collapsed": "false"
   },
   "source": [
    "##### Load required libraries"
   ]
  },
  {
   "cell_type": "code",
   "execution_count": 1,
   "metadata": {
    "Collapsed": "false"
   },
   "outputs": [],
   "source": [
    "import xarray as xr\n",
    "import pandas as pd\n",
    "from datetime import datetime\n",
    "\n",
    "import matplotlib.pyplot as plt\n",
    "import matplotlib.colors\n",
    "from matplotlib.cm import get_cmap\n",
    "from matplotlib import animation\n",
    "from matplotlib.axes import Axes\n",
    "\n",
    "import cartopy.crs as ccrs\n",
    "from cartopy.mpl.gridliner import LONGITUDE_FORMATTER, LATITUDE_FORMATTER\n",
    "import cartopy.feature as cfeature\n",
    "from cartopy.mpl.geoaxes import GeoAxes\n",
    "GeoAxes._pcolormesh_patched = Axes.pcolormesh\n",
    "\n",
    "from IPython.display import HTML\n",
    "\n",
    "import warnings\n",
    "warnings.simplefilter(action = \"ignore\", category = RuntimeWarning)"
   ]
  },
  {
   "cell_type": "markdown",
   "metadata": {},
   "source": [
    "##### Load helper functions"
   ]
  },
  {
   "cell_type": "code",
   "execution_count": 2,
   "metadata": {},
   "outputs": [],
   "source": [
    "%run ../functions.ipynb"
   ]
  },
  {
   "cell_type": "markdown",
   "metadata": {
    "Collapsed": "false"
   },
   "source": [
    "<hr>"
   ]
  },
  {
   "cell_type": "markdown",
   "metadata": {
    "tags": []
   },
   "source": [
    "### <a id='c3s_aod'></a>1. Download the Dust AOD C3S Aerosol properties gridded data for the IASI instrument on MetOp-C"
   ]
  },
  {
   "cell_type": "code",
   "execution_count": null,
   "metadata": {},
   "outputs": [],
   "source": []
  },
  {
   "cell_type": "markdown",
   "metadata": {},
   "source": [
    "<br>"
   ]
  },
  {
   "cell_type": "markdown",
   "metadata": {
    "tags": []
   },
   "source": [
    "### <a id='animate_aod'></a>2. Create an animation showing global maps of Dust AOD"
   ]
  },
  {
   "cell_type": "code",
   "execution_count": null,
   "metadata": {},
   "outputs": [],
   "source": []
  },
  {
   "cell_type": "markdown",
   "metadata": {},
   "source": [
    "<br>"
   ]
  },
  {
   "cell_type": "markdown",
   "metadata": {},
   "source": [
    "### <a id='c3s_alh'></a>3. Load and browse the Dust aerosol layer height C3S Aerosol properties gridded data for the IASI instrument on MetOp-C"
   ]
  },
  {
   "cell_type": "code",
   "execution_count": null,
   "metadata": {},
   "outputs": [],
   "source": []
  },
  {
   "cell_type": "markdown",
   "metadata": {},
   "source": [
    "<br>"
   ]
  },
  {
   "cell_type": "markdown",
   "metadata": {},
   "source": [
    "### <a id='animate_alh'></a>4. Create an animation showing global maps of Dust aerosol layer height"
   ]
  },
  {
   "cell_type": "code",
   "execution_count": null,
   "metadata": {},
   "outputs": [],
   "source": []
  },
  {
   "cell_type": "markdown",
   "metadata": {},
   "source": [
    "<br>"
   ]
  },
  {
   "cell_type": "markdown",
   "metadata": {},
   "source": [
    "### <a id='other'></a>5. [BONUS] Download Dust AOD data from C3S Aerosol properties gridded data for the IASI instrument on MetOp-C produced with a different algorithm and compare the differences."
   ]
  },
  {
   "cell_type": "code",
   "execution_count": null,
   "metadata": {},
   "outputs": [],
   "source": []
  },
  {
   "cell_type": "markdown",
   "metadata": {},
   "source": [
    "<br>"
   ]
  },
  {
   "cell_type": "markdown",
   "metadata": {},
   "source": [
    "<hr>"
   ]
  },
  {
   "cell_type": "markdown",
   "metadata": {},
   "source": [
    "<img src='../img/copernicus_logo.png' alt='Logo EU Copernicus' align='left' width='20%'><br><br><br><br>\n",
    "This project is licensed under <a href=\"../../LICENSE\">GNU General Public License v3.0 only</a> and is developed under a Copernicus contract.\n",
    "\n",
    "<p style=\"text-align:right;\"> <a href='https://training.eumetsat.int'>EUMETSAT Training</a> | <a href='mailto:training@eumetsat.int'>Contact the training team</a></p>"
   ]
  }
 ],
 "metadata": {
  "kernelspec": {
   "display_name": "Python 3 (ipykernel)",
   "language": "python",
   "name": "python3"
  },
  "language_info": {
   "codemirror_mode": {
    "name": "ipython",
    "version": 3
   },
   "file_extension": ".py",
   "mimetype": "text/x-python",
   "name": "python",
   "nbconvert_exporter": "python",
   "pygments_lexer": "ipython3",
   "version": "3.8.12"
  }
 },
 "nbformat": 4,
 "nbformat_minor": 4
}
