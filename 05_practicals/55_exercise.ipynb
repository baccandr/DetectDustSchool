{
 "cells": [
  {
   "cell_type": "markdown",
   "metadata": {},
   "source": [
    "<img src='../img/dust_banner.png' alt='Training school and workshop on dust' align='center' width='100%'></img>\n",
    "\n",
    "<br>"
   ]
  },
  {
   "cell_type": "markdown",
   "metadata": {
    "Collapsed": "false"
   },
   "source": [
    "# 05 - Practical exercise - Model II"
   ]
  },
  {
   "cell_type": "markdown",
   "metadata": {},
   "source": [
    "### About"
   ]
  },
  {
   "cell_type": "markdown",
   "metadata": {},
   "source": [
    "> Let us now return to the dust event in March 2022. As you recall, the dust outbreak lasted for a week from 15 to 22 March 2022 and extended across the Mediterranean Sea up as far as northern Europe. ([Source](https://www.eumetsat.int/widespread-dust-intrusion-across-europe))\n",
    "\n",
    "> Today, you will focus on how you can use station observations from AERONET to evaluate model forecasts from CAMS global atmospheric composition forecast and from the SDS-WAS MONARCH model dust forecasts.\n",
    "While model intercomparison is important, model outcomes also have to be compared with real-world observations. Just by comparing model outcomes with measurements from station data, we can better understand how the model performs.\n"
   ]
  },
  {
   "cell_type": "markdown",
   "metadata": {
    "tags": []
   },
   "source": [
    "### Tasks"
   ]
  },
  {
   "cell_type": "markdown",
   "metadata": {
    "jp-MarkdownHeadingCollapsed": true,
    "tags": []
   },
   "source": [
    "#### 1. Brainstorm\n",
    "  * What model datasets do you know about?\n",
    "  * Which variables do they measure?\n",
    "  * Which data can you use to evaluate model predictions?\n",
    "  \n",
    "#### 2. Download the dust forecast from the MONARCH model\n",
    "  * Download the dust forecast from the MONARCH model for 15 March 2022\n",
    "  * **Hint** \n",
    "    * [WMO SDS-WAS dust forecast - Example notebook](../04_data_workflows/43_model_data/434_SDS-WAS_MONARCH_dust_forecast.ipynb)\n",
    "    * [Data access](https://dust.aemet.es/products/data-download)\n",
    "      * User: `eumetsat-training`\n",
    "      * Password: `Sod/e3Oi2+cK17Z/`\n",
    " \n",
    "#### 3. Download the CAMS global atmopsheric composition forecast\n",
    "  * Download the CAMS global atmospheric composition forecast for 15 March 2022, with the following specifications:\n",
    "    > Variable on single levels: `Dust aerosol optical depth at 550 nm` <br>\n",
    "    > Date (Start and end): `2022-03-15` <br>\n",
    "    > Time: `12:00` <br>\n",
    "    > Leadtime hour: every three hours from `0 to 90` <br>\n",
    "    > Type: `Forecast` <br>\n",
    "    > Restricted area: `N: 71, W: -22, E: 43, S: 28` <br>\n",
    "    > Format: `Zipped netCDF` <br>\n",
    "  * **Hint** \n",
    "    * [CAMS global atmospheric composition forecasts - Example notebook](../04_data_workflows/43_model_data/431_CAMS_global_forecast_duaod_load_browse.ipynb)\n",
    "    * [Data access](https://ads.atmosphere.copernicus.eu/cdsapp#!/dataset/cams-global-atmospheric-composition-forecasts)\n",
    "\n",
    "#### 4. Look up the coordinates of the AERONET station *Coruna, Spain*\n",
    "  * **Hint**\n",
    "    * You can see an overview of all available AERONET Site Names [here](https://aeronet.gsfc.nasa.gov/cgi-bin/draw_map_display_aod_v3?long1=-180&long2=180&lat1=-90&lat2=90&multiplier=2&what_map=4&nachal=1&formatter=0&level=3&place_code=10&place_limit=0)\n",
    "\n",
    "#### 5. Select the time-series for CAMS global atmospheric composition forecasts for *Coruna, Spain*\n",
    "  * **Hint**\n",
    "    * With the xarray function `sel()` and keyword argument `method='nearest'` you can select data based on coordinate information\n",
    "    * We also recommend you to transform your xarray.DataArray into a pandas.DataFrame with the function `to_dataframe()` and save it as `csv` with the function `to_csv()`\n",
    "\n",
    "#### 6. Load the MONARCH dust forecasts and select time-series for *Coruna, Spain*\n",
    "  * **Hint**\n",
    "    * With the xarray function `sel()` and keyword argument `method='nearest'` you can select data based on coordinate information\n",
    "    * We also recommend you to transform your xarray.DataArray into a pandas.DataFrame with the function `to_dataframe()` and save it as `csv` with the function `to_csv()`"
   ]
  },
  {
   "cell_type": "markdown",
   "metadata": {
    "tags": []
   },
   "source": [
    "#### 7. Download and plot time-series of AERONET data for *Coruna, Spain*\n",
    "  * Download and visualise AERONET v3.0 measurements for all points of the station *Coruna, Spain* for 15 to 22 March 2022.\n",
    "  * The data type we will download and plot today is `SDA20`. This contains the coarse mode AOD which indicates the presence of dust.\n",
    "  * **Some questions to reflect on**\n",
    "    * Under which name is the station listed in AERONET?\n",
    "    * What average level would you choose?\n",
    "    * Which days do we have observations for?\n",
    "  * **Hint** \n",
    "    * [AERONET observations - Example notebook](../04_data_workflows/42_groundbased_observations/421_AERONET.ipynb)\n",
    "\n",
    "#### 8. Resample AERONET data to a 3-hourly resolution\n",
    "  * Make use of AERONET `index` and `time` columns to create a `DateTimeIndex` in order to resample the observations to a 3-hourly temporal resolution\n",
    "  * **Hint**\n",
    "    * you have to combine the two columns `index` and `time` as one string variable\n",
    "    * you can use the pandas function `to_datetime()` to create a `DateTimeIndex` and the function `resample().mean()` to resample and average the time-series to a given temporal resolution \n",
    "  * **Question to reflect on**\n",
    "    * How many row entries does the resampled data frame have?\n",
    "\n",
    "#### 9. Load time-series of the forecasts from CAMS and the MONARCH model \n",
    "\n",
    "#### 10. Plot both model forecasts with the AERONET observations\n",
    "\n",
    "#### 11. Interpret the plotting result.\n",
    "  * Can you make a statement about the performance of the two forecast models?\n",
    "  * What are your conclusions regarding AERONET observation data?\n",
    "  * Compare these results with the SEVIRI Dust RGB [online](https://sds-was.aemet.es/forecast-products/dust-observations/msg-2013-eumetsat) and the MODIS Natural Colour RGB [online](https://go.nasa.gov/3WTHjOW). Why is it a good idea to use model, ground-based and satellite observations together?"
   ]
  },
  {
   "cell_type": "markdown",
   "metadata": {
    "Collapsed": "false",
    "tags": []
   },
   "source": [
    "### Module outline\n",
    "* [1 - Download the dust forecast from the MONARCH model](#download_sds_was)\n",
    "* [2 - Download the CAMS global atmopsheric composition forecast](#download_cams_forecast)\n",
    "* [3 - Select latitude / longitude values for AERONET station Coruna, Spain](#select_lat_lon)\n",
    "* [4 - Select time-series for CAMS global atmospheric composition forecasts](#ts_cams)\n",
    "* [5 - Load the MONARCH dust forecasts and select time-series](#sdswas_forecast_load)\n",
    "* [6 - Download and plot time-series of AERONET data](#download_aeronet)\n",
    "* [7 - Resample AERONET data to a 3-hourly resolution](#resample_aeronet)\n",
    "* [8 - Load time series of forecasts from CAMS and the MONARCH model](#model_timeseries)\n",
    "* [9 - Plot both model forecasts with the AERONET observations](#compare_model_observations)\n"
   ]
  },
  {
   "cell_type": "markdown",
   "metadata": {},
   "source": [
    "<hr>"
   ]
  },
  {
   "cell_type": "markdown",
   "metadata": {
    "Collapsed": "false"
   },
   "source": [
    "##### Load required libraries"
   ]
  },
  {
   "cell_type": "code",
   "execution_count": 1,
   "metadata": {
    "Collapsed": "false"
   },
   "outputs": [],
   "source": [
    "import wget\n",
    "import pandas as pd\n",
    "\n",
    "import matplotlib.pyplot as pl\n",
    "import matplotlib.colors\n",
    "from matplotlib.cm import get_cmap\n",
    "from matplotlib import animation\n",
    "from matplotlib.axes import Axes\n",
    "\n",
    "import cartopy.crs as ccrs\n",
    "from cartopy.mpl.gridliner import LONGITUDE_FORMATTER, LATITUDE_FORMATTER\n",
    "import cartopy.feature as cfeature\n",
    "from cartopy.mpl.geoaxes import GeoAxes\n",
    "GeoAxes._pcolormesh_patched = Axes.pcolormesh\n",
    "\n",
    "import warnings\n",
    "warnings.simplefilter(action = \"ignore\", category = RuntimeWarning)"
   ]
  },
  {
   "cell_type": "markdown",
   "metadata": {},
   "source": [
    "##### Load helper functions"
   ]
  },
  {
   "cell_type": "code",
   "execution_count": null,
   "metadata": {},
   "outputs": [],
   "source": [
    "%run ../functions.ipynb"
   ]
  },
  {
   "cell_type": "markdown",
   "metadata": {
    "Collapsed": "false"
   },
   "source": [
    "<hr>"
   ]
  },
  {
   "cell_type": "markdown",
   "metadata": {
    "tags": []
   },
   "source": [
    "### <a id='download_sds_was'></a>1. Download the dust forecasts from the MONARCH model"
   ]
  },
  {
   "cell_type": "code",
   "execution_count": null,
   "metadata": {},
   "outputs": [],
   "source": []
  },
  {
   "cell_type": "markdown",
   "metadata": {},
   "source": [
    "<br>"
   ]
  },
  {
   "cell_type": "markdown",
   "metadata": {
    "tags": []
   },
   "source": [
    "### <a id='download_cams_forecast'></a>2. Download CAMS global atmospheric composition forecasts "
   ]
  },
  {
   "cell_type": "code",
   "execution_count": null,
   "metadata": {},
   "outputs": [],
   "source": []
  },
  {
   "cell_type": "markdown",
   "metadata": {},
   "source": [
    "<br>"
   ]
  },
  {
   "cell_type": "markdown",
   "metadata": {
    "tags": []
   },
   "source": [
    "### <a id='select_lat_lon'></a>3. Select latitude / longitude values for `Coruna`"
   ]
  },
  {
   "cell_type": "markdown",
   "metadata": {},
   "source": [
    "You can see an overview of all available AERONET Site Names [here](https://aeronet.gsfc.nasa.gov/cgi-bin/draw_map_display_aod_v3?long1=-180&long2=180&lat1=-90&lat2=90&multiplier=2&what_map=4&nachal=1&formatter=0&level=3&place_code=10&place_limit=0)."
   ]
  },
  {
   "cell_type": "code",
   "execution_count": null,
   "metadata": {
    "tags": []
   },
   "outputs": [],
   "source": []
  },
  {
   "cell_type": "markdown",
   "metadata": {},
   "source": [
    "<br>"
   ]
  },
  {
   "cell_type": "markdown",
   "metadata": {},
   "source": [
    "### <a id='ts_cams'></a>4. Select time-series for CAMS global atmospheric composition forecasts"
   ]
  },
  {
   "cell_type": "code",
   "execution_count": null,
   "metadata": {},
   "outputs": [],
   "source": []
  },
  {
   "cell_type": "markdown",
   "metadata": {},
   "source": [
    "<br>"
   ]
  },
  {
   "cell_type": "markdown",
   "metadata": {},
   "source": [
    "### <a id='sdswas_forecast_load'></a>5. Load MONARCH dust forecasts and select time-series"
   ]
  },
  {
   "cell_type": "code",
   "execution_count": null,
   "metadata": {
    "tags": []
   },
   "outputs": [],
   "source": []
  },
  {
   "cell_type": "markdown",
   "metadata": {},
   "source": [
    "<br>"
   ]
  },
  {
   "cell_type": "markdown",
   "metadata": {
    "tags": []
   },
   "source": [
    "### <a id='download_aeronet'></a>6. Download and plot time-series of AERONET data"
   ]
  },
  {
   "cell_type": "code",
   "execution_count": null,
   "metadata": {},
   "outputs": [],
   "source": []
  },
  {
   "cell_type": "markdown",
   "metadata": {},
   "source": [
    "<br>"
   ]
  },
  {
   "cell_type": "markdown",
   "metadata": {},
   "source": [
    "### <a id='resample_aeronet'></a>7. Resample AERONET data to a 3-hourly resolution"
   ]
  },
  {
   "cell_type": "code",
   "execution_count": null,
   "metadata": {},
   "outputs": [],
   "source": []
  },
  {
   "cell_type": "markdown",
   "metadata": {},
   "source": [
    "<br>"
   ]
  },
  {
   "cell_type": "markdown",
   "metadata": {
    "tags": []
   },
   "source": [
    "### <a id='model_timeseries'></a>8. Load time series of the forecasts from CAMS and the MONARCH model"
   ]
  },
  {
   "cell_type": "code",
   "execution_count": null,
   "metadata": {},
   "outputs": [],
   "source": []
  },
  {
   "cell_type": "markdown",
   "metadata": {},
   "source": [
    "<br>"
   ]
  },
  {
   "cell_type": "markdown",
   "metadata": {
    "tags": []
   },
   "source": [
    "### <a id='compare_model_observations'></a> 9. Plot both model forecasts with the AERONET observations"
   ]
  },
  {
   "cell_type": "markdown",
   "metadata": {},
   "source": [
    "Before plotting, make sure to rename the column using the following code. You can replace `df_merged` with the name of your merged dataframe."
   ]
  },
  {
   "cell_type": "code",
   "execution_count": 34,
   "metadata": {},
   "outputs": [],
   "source": [
    "df_merged.rename({'Coarse_Mode_AOD_500nm[tau_c]': 'Coarse_Mode_AOD_500nm'}, axis=1, inplace=True)"
   ]
  },
  {
   "cell_type": "code",
   "execution_count": null,
   "metadata": {},
   "outputs": [],
   "source": []
  },
  {
   "cell_type": "markdown",
   "metadata": {},
   "source": [
    "<br>"
   ]
  },
  {
   "cell_type": "markdown",
   "metadata": {},
   "source": [
    "<hr>"
   ]
  },
  {
   "cell_type": "markdown",
   "metadata": {},
   "source": [
    "<img src='../img/copernicus_logo.png' alt='Logo EU Copernicus' align='left' width='20%'><br><br><br><br>\n",
    "This project is licensed under <a href=\"../../LICENSE\">GNU General Public License v3.0 only</a> and is developed under a Copernicus contract.\n",
    "\n",
    "<p style=\"text-align:right;\"> <a href='https://training.eumetsat.int'>EUMETSAT Training</a> | <a href='mailto:training@eumetsat.int'>Contact the training team</a></p>"
   ]
  }
 ],
 "metadata": {
  "kernelspec": {
   "display_name": "Python 3 (ipykernel)",
   "language": "python",
   "name": "python3"
  },
  "language_info": {
   "codemirror_mode": {
    "name": "ipython",
    "version": 3
   },
   "file_extension": ".py",
   "mimetype": "text/x-python",
   "name": "python",
   "nbconvert_exporter": "python",
   "pygments_lexer": "ipython3",
   "version": "3.8.12"
  }
 },
 "nbformat": 4,
 "nbformat_minor": 4
}
